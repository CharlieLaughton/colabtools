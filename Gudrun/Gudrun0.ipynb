{
 "cells": [
  {
   "cell_type": "code",
   "execution_count": 1,
   "metadata": {},
   "outputs": [],
   "source": [
    "data = '''\n",
    "physicochemical property\tnifedipine\tfelodipine\titraconazole\tprobucol\tritonavir\tfenofibrate\tcelecoxib\testradiol\torlistat\taprepitant\n",
    "nAliph\t19\t19\t21\t23\t28\t13\t9\t14\t35\t20\n",
    "nAliphRing\t1\t1\t2\t0\t0\t0\t0\t3\t1\t1\n",
    "nAr\t6\t6\t28\t12\t22\t12\t17\t6\t0\t17\n",
    "nArRing\t1\t1\t5\t2\t4\t2\t3\t1\t0\t3\n",
    "ASA (Å2)\t533\t583\t976\t874\t981\t642\t602\t392\t985\t679\n",
    "nAtom\t43\t44\t87\t83\t98\t46\t40\t44\t88\t58\n",
    "avPol (Å3)\t33\t37\t74\t62\t76\t38\t35\t32\t61\t44\n",
    "nBond\t44\t45\t93\t84\t101\t47\t42\t47\t88\t61\n",
    "nChir\t0\t1\t3\t0\t4\t0\t0\t5\t4\t3\n",
    "HBA\t5\t3\t9\t2\t6\t3\t3\t2\t3\t6\n",
    "HBD\t1\t1\t0\t2\t4\t0\t1\t2\t1\t2\n",
    "nHet\t8\t7\t14\t4\t13\t5\t9\t2\t6\t14\n",
    "HLB\t16\t11\t5\t2\t4\t4\t4\t2\t3\t16\n",
    "logS0 (M)\t–3\t–4\t–9\t–11\t–8\t–6\t–6\t–4\t–11\t–6\n",
    "logP\t1.82\t3.44\t7.31\t10.57\t5.22\t5.28\t4.01\t3.75\t8.11\t4.52\n",
    "MW\t346.3\t384.3\t705.6\t519.8\t721.0\t360.8\t381.4\t272.4\t495.8\t534.4\n",
    "molPol (Å3)\t33\t37\t71\t61\t75\t38\t36\t31\t56\t43\n",
    "mp (°C)\t173\t145\t166\t125\t121\t81\t158\t152\t44\t255\n",
    "nC\t17\t18\t35\t31\t37\t20\t17\t18\t29\t23\n",
    "nCl\t0\t2\t2\t0\t0\t1\t0\t0\t0\t0\n",
    "nF\t0\t0\t0\t0\t0\t0\t3\t0\t0\t7\n",
    "nN\t2\t1\t8\t0\t6\t0\t3\t0\t1\t4\n",
    "nO\t6\t4\t4\t2\t5\t4\t2\t2\t5\t3\n",
    "nS\t0\t0\t0\t2\t2\t0\t1\t0\t0\t0\n",
    "nRing\t2\t2\t7\t2\t4\t2\t3\t4\t1\t4\n",
    "nRot\t6\t6\t11\t8\t18\t7\t4\t0\t23\t8\n",
    "sp2\t12\t12\t22\t12\t21\t14\t15\t6\t3\t14\n",
    "sp3\t5\t6\t13\t19\t16\t6\t2\t12\t26\t9\n",
    "b.pKa\t–6.63\t–6.64\t3.92\t–5.08\t2.84\t–4.93\t0.08\t–0.88\t–1.44\t3.74\n",
    "tPSA (Å2)\t107.8\t64.6\t100.8\t40.5\t145.8\t52.6\t78.0\t40.5\t81.7\t75.2\n",
    "vdW-SA (Å2)\t466\t493\t965\t916\t1,065\t533\t484\t437\t925\t656\n",
    "Sh Tg,meas (°C)\t70.2\t68.2\t68.5\t68.9\t66.6\t56.1\t72.7\t64.2\tNA\t74.3\n",
    "Ss Tg,meas (°C)\t71.2\t67.8\t70.0\t67.0\t68.3\t57.5\t71.7\t68.0\tNA\t74.2\n",
    "Kh Tg,meas (°C)\t102.3\t100.9\t103.6\t101.4\t96.3\t84.8\t104.8\t103.1\tNA\t106.0\n",
    "Ks Tg,meas (°C)\t104.8\t104.5\t109.9\t103.4\t102.5\t91.8\t103.7\t99.5\tNA\t110.6\n",
    "Hh Tg,meas (°C)\t105.3\t103.4\t109.0\t101.7\t97.6\t92.7\t102.0\t104.7\tNA\tNA\n",
    "Hs Tg,meas (°C)\t103.7\t103.7\t109.3\t104.3\t102.6\t91.1\t103.7\t100.0\t94.8\t110.0\n",
    "S Tg,pred (°C)\t67.5\t67.5\t68.8\t65.7\t67.9\t61.1\t68.8\t71.5\t58.5\t66.6\n",
    "P Tg,pred (°C)\t95.4\t95.4\t96.7\t93.6\t95.8\t89.0\t96.7\t99.4\t86.4\t94.5\n",
    "H Tg,pred (°C)\t112.5\t112.5\t113.8\t110.7\t112.9\t106.1\t113.8\t116.5\t103.5\t111.6\n",
    "'''"
   ]
  },
  {
   "cell_type": "code",
   "execution_count": 17,
   "metadata": {},
   "outputs": [
    {
     "name": "stdout",
     "output_type": "stream",
     "text": [
      "['physicochemical property', 'nifedipine', 'felodipine', 'itraconazole', 'probucol', 'ritonavir', 'fenofibrate', 'celecoxib', 'estradiol', 'orlistat', 'aprepitant']\n"
     ]
    }
   ],
   "source": [
    "lines = data.split('\\n')\n",
    "column_labels = lines[1].split('\\t')\n",
    "print(column_labels)"
   ]
  },
  {
   "cell_type": "code",
   "execution_count": 80,
   "metadata": {},
   "outputs": [],
   "source": [
    "numbers = []\n",
    "row_labels = []\n",
    "for lin in lines[2:-1]:\n",
    "    w = lin.split('\\t')\n",
    "    row_labels.append(w[0])\n",
    "    nums = w[1:]\n",
    "    floats = []\n",
    "    n = 0\n",
    "    sum = 0\n",
    "    sanitized_nums = []\n",
    "    for num in nums:\n",
    "        num = num.replace('\\u2013', '-')\n",
    "        num = ''.join([c for c in num if c != ','])\n",
    "        if num != 'NA':\n",
    "            sum += float(num)\n",
    "            n += 1\n",
    "        sanitized_nums.append(num)\n",
    "    without_NAs = []\n",
    "    for s in sanitized_nums:\n",
    "        if s == 'NA':\n",
    "            without_NAs.append('{}'.format(sum/n))\n",
    "        else:\n",
    "            without_NAs.append(s)\n",
    "    numbers.append(without_NAs)"
   ]
  },
  {
   "cell_type": "code",
   "execution_count": 85,
   "metadata": {},
   "outputs": [
    {
     "name": "stdout",
     "output_type": "stream",
     "text": [
      "[ 19,19,21,23,28,13,9,14,35,20 ],\n",
      "[ 1,1,2,0,0,0,0,3,1,1 ],\n",
      "[ 6,6,28,12,22,12,17,6,0,17 ],\n",
      "[ 1,1,5,2,4,2,3,1,0,3 ],\n",
      "[ 533,583,976,874,981,642,602,392,985,679 ],\n",
      "[ 43,44,87,83,98,46,40,44,88,58 ],\n",
      "[ 33,37,74,62,76,38,35,32,61,44 ],\n",
      "[ 44,45,93,84,101,47,42,47,88,61 ],\n",
      "[ 0,1,3,0,4,0,0,5,4,3 ],\n",
      "[ 5,3,9,2,6,3,3,2,3,6 ],\n",
      "[ 1,1,0,2,4,0,1,2,1,2 ],\n",
      "[ 8,7,14,4,13,5,9,2,6,14 ],\n",
      "[ 16,11,5,2,4,4,4,2,3,16 ],\n",
      "[ -3,-4,-9,-11,-8,-6,-6,-4,-11,-6 ],\n",
      "[ 1.82,3.44,7.31,10.57,5.22,5.28,4.01,3.75,8.11,4.52 ],\n",
      "[ 346.3,384.3,705.6,519.8,721.0,360.8,381.4,272.4,495.8,534.4 ],\n",
      "[ 33,37,71,61,75,38,36,31,56,43 ],\n",
      "[ 173,145,166,125,121,81,158,152,44,255 ],\n",
      "[ 17,18,35,31,37,20,17,18,29,23 ],\n",
      "[ 0,2,2,0,0,1,0,0,0,0 ],\n",
      "[ 0,0,0,0,0,0,3,0,0,7 ],\n",
      "[ 2,1,8,0,6,0,3,0,1,4 ],\n",
      "[ 6,4,4,2,5,4,2,2,5,3 ],\n",
      "[ 0,0,0,2,2,0,1,0,0,0 ],\n",
      "[ 2,2,7,2,4,2,3,4,1,4 ],\n",
      "[ 6,6,11,8,18,7,4,0,23,8 ],\n",
      "[ 12,12,22,12,21,14,15,6,3,14 ],\n",
      "[ 5,6,13,19,16,6,2,12,26,9 ],\n",
      "[ -6.63,-6.64,3.92,-5.08,2.84,-4.93,0.08,-0.88,-1.44,3.74 ],\n",
      "[ 107.8,64.6,100.8,40.5,145.8,52.6,78.0,40.5,81.7,75.2 ],\n",
      "[ 466,493,965,916,1065,533,484,437,925,656 ],\n",
      "[ 70.2,68.2,68.5,68.9,66.6,56.1,72.7,64.2,67.74444444444444,74.3 ],\n",
      "[ 71.2,67.8,70.0,67.0,68.3,57.5,71.7,68.0,68.41111111111111,74.2 ],\n",
      "[ 102.3,100.9,103.6,101.4,96.3,84.8,104.8,103.1,100.35555555555555,106.0 ],\n",
      "[ 104.8,104.5,109.9,103.4,102.5,91.8,103.7,99.5,103.41111111111111,110.6 ],\n",
      "[ 105.3,103.4,109.0,101.7,97.6,92.7,102.0,104.7,102.05000000000001,102.05000000000001 ],\n",
      "[ 103.7,103.7,109.3,104.3,102.6,91.1,103.7,100.0,94.8,110.0 ],\n",
      "[ 67.5,67.5,68.8,65.7,67.9,61.1,68.8,71.5,58.5,66.6 ],\n",
      "[ 95.4,95.4,96.7,93.6,95.8,89.0,96.7,99.4,86.4,94.5 ],\n",
      "[ 112.5,112.5,113.8,110.7,112.9,106.1,113.8,116.5,103.5,111.6 ],\n"
     ]
    }
   ],
   "source": [
    "for n in numbers:\n",
    "    print('[',','.join(n), '],')"
   ]
  },
  {
   "cell_type": "code",
   "execution_count": 93,
   "metadata": {},
   "outputs": [],
   "source": [
    "data = [[ 19,19,21,23,28,13,9,14,35,20 ],\n",
    "[ 1,1,2,0,0,0,0,3,1,1 ],\n",
    "[ 6,6,28,12,22,12,17,6,0,17 ],\n",
    "[ 1,1,5,2,4,2,3,1,0,3 ],\n",
    "[ 533,583,976,874,981,642,602,392,985,679 ],\n",
    "[ 43,44,87,83,98,46,40,44,88,58 ],\n",
    "[ 33,37,74,62,76,38,35,32,61,44 ],\n",
    "[ 44,45,93,84,101,47,42,47,88,61 ],\n",
    "[ 0,1,3,0,4,0,0,5,4,3 ],\n",
    "[ 5,3,9,2,6,3,3,2,3,6 ],\n",
    "[ 1,1,0,2,4,0,1,2,1,2 ],\n",
    "[ 8,7,14,4,13,5,9,2,6,14 ],\n",
    "[ 16,11,5,2,4,4,4,2,3,16 ],\n",
    "[ -3,-4,-9,-11,-8,-6,-6,-4,-11,-6 ],\n",
    "[ 1.82,3.44,7.31,10.57,5.22,5.28,4.01,3.75,8.11,4.52 ],\n",
    "[ 346.3,384.3,705.6,519.8,721.0,360.8,381.4,272.4,495.8,534.4 ],\n",
    "[ 33,37,71,61,75,38,36,31,56,43 ],\n",
    "[ 173,145,166,125,121,81,158,152,44,255 ],\n",
    "[ 17,18,35,31,37,20,17,18,29,23 ],\n",
    "[ 0,2,2,0,0,1,0,0,0,0 ],\n",
    "[ 0,0,0,0,0,0,3,0,0,7 ],\n",
    "[ 2,1,8,0,6,0,3,0,1,4 ],\n",
    "[ 6,4,4,2,5,4,2,2,5,3 ],\n",
    "[ 0,0,0,2,2,0,1,0,0,0 ],\n",
    "[ 2,2,7,2,4,2,3,4,1,4 ],\n",
    "[ 6,6,11,8,18,7,4,0,23,8 ],\n",
    "[ 12,12,22,12,21,14,15,6,3,14 ],\n",
    "[ 5,6,13,19,16,6,2,12,26,9 ],\n",
    "[ -6.63,-6.64,3.92,-5.08,2.84,-4.93,0.08,-0.88,-1.44,3.74 ],\n",
    "[ 107.8,64.6,100.8,40.5,145.8,52.6,78.0,40.5,81.7,75.2 ],\n",
    "[ 466,493,965,916,1065,533,484,437,925,656 ],\n",
    "[ 70.2,68.2,68.5,68.9,66.6,56.1,72.7,64.2,67.74,74.3 ],\n",
    "[ 71.2,67.8,70.0,67.0,68.3,57.5,71.7,68.0,68.41,74.2 ],\n",
    "[ 102.3,100.9,103.6,101.4,96.3,84.8,104.8,103.1,100.36,106.0 ],\n",
    "[ 104.8,104.5,109.9,103.4,102.5,91.8,103.7,99.5,103.41,110.6 ],\n",
    "[ 105.3,103.4,109.0,101.7,97.6,92.7,102.0,104.7,102.05,102.05 ],\n",
    "[ 103.7,103.7,109.3,104.3,102.6,91.1,103.7,100.0,94.8,110.0 ],\n",
    "[ 67.5,67.5,68.8,65.7,67.9,61.1,68.8,71.5,58.5,66.6 ],\n",
    "[ 95.4,95.4,96.7,93.6,95.8,89.0,96.7,99.4,86.4,94.5 ],\n",
    "[ 112.5,112.5,113.8,110.7,112.9,106.1,113.8,116.5,103.5,111.6 ]]\n",
    "column_labels = ['descriptor', 'nifedipine', 'felodipine', 'itraconazole', \n",
    "                 'probucol', 'ritonavir', 'fenofibrate', 'celecoxib', 'estradiol', \n",
    "                 'orlistat', 'aprepitant']\n",
    "row_labels = ['nAliph', 'nAliphRing', 'nAr', 'nArRing', 'ASA (Å2)', 'nAtom', 'avPol (Å3)', \n",
    "              'nBond', 'nChir', 'HBA', 'HBD', 'nHet', 'HLB', 'logS0 (M)', 'logP', 'MW', \n",
    "              'molPol (Å3)', 'mp (°C)', 'nC', 'nCl', 'nF', 'nN', 'nO', 'nS', 'nRing', \n",
    "              'nRot', 'sp2', 'sp3', 'b.pKa', 'tPSA (Å2)', 'vdW-SA (Å2)', 'Sh Tg,meas (°C)',\n",
    "              'Ss Tg,meas (°C)', 'Kh Tg,meas (°C)', 'Ks Tg,meas (°C)', 'Hh Tg,meas (°C)', \n",
    "              'Hs Tg,meas (°C)', 'S Tg,pred (°C)', 'P Tg,pred (°C)', 'H Tg,pred (°C)']\n",
    "\n"
   ]
  },
  {
   "cell_type": "code",
   "execution_count": 94,
   "metadata": {},
   "outputs": [
    {
     "name": "stdout",
     "output_type": "stream",
     "text": [
      "['descriptor', 'nifedipine', 'felodipine', 'itraconazole', 'probucol']\n",
      "nAliph [19, 19, 21, 23]\n",
      "nAliphRing [1, 1, 2, 0]\n",
      "nAr [6, 6, 28, 12]\n",
      "nArRing [1, 1, 5, 2]\n",
      "ASA (Å2) [533, 583, 976, 874]\n"
     ]
    }
   ],
   "source": [
    "print(column_labels[:5])\n",
    "for r in range(5):\n",
    "    print(row_labels[r], '{}data[r][:4])"
   ]
  },
  {
   "cell_type": "code",
   "execution_count": 106,
   "metadata": {},
   "outputs": [],
   "source": [
    "dic = {}\n",
    "for i, r in enumerate(row_labels):\n",
    "    dic[r] = np.array(data[i])"
   ]
  },
  {
   "cell_type": "code",
   "execution_count": 108,
   "metadata": {},
   "outputs": [
    {
     "name": "stdout",
     "output_type": "stream",
     "text": [
      "Sh Tg,meas (°C) 4.744915594612826\n",
      "Ss Tg,meas (°C) 4.197962481966699\n",
      "Kh Tg,meas (°C) 5.772886972737298\n",
      "Ks Tg,meas (°C) 4.979245826427935\n",
      "Hh Tg,meas (°C) 4.184017208377614\n",
      "Hs Tg,meas (°C) 5.524816739042121\n"
     ]
    }
   ],
   "source": [
    "for key in ['Sh Tg,meas (°C)', 'Ss Tg,meas (°C)', 'Kh Tg,meas (°C)', \n",
    "            'Ks Tg,meas (°C)', 'Hh Tg,meas (°C)', 'Hs Tg,meas (°C)']:\n",
    "    print(key, dic[key].std())"
   ]
  },
  {
   "cell_type": "code",
   "execution_count": 110,
   "metadata": {},
   "outputs": [
    {
     "name": "stdout",
     "output_type": "stream",
     "text": [
      "[[1.    0.037]\n",
      " [0.037 1.   ]]\n"
     ]
    }
   ],
   "source": [
    "print(np.corrcoef(dic['nAliph'], dic['Kh Tg,meas (°C)']))"
   ]
  },
  {
   "cell_type": "code",
   "execution_count": 111,
   "metadata": {},
   "outputs": [
    {
     "name": "stdout",
     "output_type": "stream",
     "text": [
      "nAliph 0.03660236306965475\n",
      "nAliphRing 0.41967410170751396\n",
      "nAr 0.06497677165937706\n",
      "nArRing 0.0762342410648943\n",
      "ASA (Å2) -0.0809622358729553\n",
      "nAtom -0.008274923110377773\n",
      "avPol (Å3) -0.019397561043446157\n",
      "nBond 0.014611389604011534\n",
      "nChir 0.22568576210519528\n",
      "HBA 0.19734718288928715\n",
      "HBD 0.14896362775944685\n",
      "nHet 0.26967158962876797\n",
      "HLB 0.2995265701553964\n",
      "logS0 (M) 0.03542456212162318\n",
      "logP -0.06723598658771268\n",
      "MW 0.07670938810903068\n",
      "molPol (Å3) -0.032546021998593\n",
      "mp (°C) 0.6114980694707614\n",
      "nC -0.041118522439025\n",
      "nCl -0.1714561859077169\n",
      "nF 0.4177814334960883\n",
      "nN 0.2777135942420572\n",
      "nO -0.2867654832564177\n",
      "nS -0.03394746538022447\n",
      "nRing 0.30970913575116643\n",
      "nRot -0.16191298779521107\n",
      "sp2 -0.08515710702029053\n",
      "sp3 0.023487898953549365\n",
      "b.pKa 0.3296274985996324\n",
      "tPSA (Å2) 0.04843358580575692\n",
      "vdW-SA (Å2) -0.021838133950001115\n"
     ]
    }
   ],
   "source": [
    "for key in ['nAliph', 'nAliphRing', 'nAr', 'nArRing', 'ASA (Å2)', 'nAtom', 'avPol (Å3)', \n",
    "              'nBond', 'nChir', 'HBA', 'HBD', 'nHet', 'HLB', 'logS0 (M)', 'logP', 'MW', \n",
    "              'molPol (Å3)', 'mp (°C)', 'nC', 'nCl', 'nF', 'nN', 'nO', 'nS', 'nRing', \n",
    "              'nRot', 'sp2', 'sp3', 'b.pKa', 'tPSA (Å2)', 'vdW-SA (Å2)']:\n",
    "    print(key, np.corrcoef(dic[key], dic['Kh Tg,meas (°C)'])[0,1])"
   ]
  },
  {
   "cell_type": "code",
   "execution_count": 112,
   "metadata": {},
   "outputs": [],
   "source": [
    "import matplotlib.pyplot as plt\n",
    "%matplotlib inline"
   ]
  },
  {
   "cell_type": "code",
   "execution_count": 113,
   "metadata": {},
   "outputs": [
    {
     "data": {
      "text/plain": [
       "[<matplotlib.lines.Line2D at 0x7f82a1130c88>]"
      ]
     },
     "execution_count": 113,
     "metadata": {},
     "output_type": "execute_result"
    },
    {
     "data": {
      "image/png": "[encoded data removed]",
      "text/plain": [
       "<Figure size 432x288 with 1 Axes>"
      ]
     },
     "metadata": {
      "needs_background": "light"
     },
     "output_type": "display_data"
    }
   ],
   "source": [
    "plt.plot(dic['mp (°C)'], dic['Kh Tg,meas (°C)'], '.')"
   ]
  },
  {
   "cell_type": "code",
   "execution_count": 117,
   "metadata": {},
   "outputs": [
    {
     "name": "stdout",
     "output_type": "stream",
     "text": [
      "nAliphRing 0.2511719513134742\n",
      "nF 0.7145025187095327\n",
      "b.pKa 0.3555246881494798\n"
     ]
    }
   ],
   "source": [
    "for key in ['nAliphRing', 'nF', 'b.pKa']:\n",
    "    print(key, np.corrcoef(dic[key], dic['mp (°C)'])[0,1])"
   ]
  },
  {
   "cell_type": "code",
   "execution_count": 118,
   "metadata": {},
   "outputs": [
    {
     "name": "stdout",
     "output_type": "stream",
     "text": [
      "b.pKa 0.20802277672853456\n"
     ]
    }
   ],
   "source": [
    "print(key, np.corrcoef(dic['nAliphRing'], dic['b.pKa'])[0,1])"
   ]
  },
  {
   "cell_type": "markdown",
   "metadata": {},
   "source": [
    "The three descriptors that correlate best with 'Kh Tg,meas (°C)' and most weakly with each other are 'mp (°C)', 'nAliphRing', and 'b.pKa'.\n",
    "\n",
    "Use these for MLR:\n"
   ]
  },
  {
   "cell_type": "code",
   "execution_count": 120,
   "metadata": {},
   "outputs": [],
   "source": [
    "from sklearn.linear_model import LinearRegression"
   ]
  },
  {
   "cell_type": "code",
   "execution_count": 123,
   "metadata": {},
   "outputs": [],
   "source": [
    "X = np.array([dic[key] for key in ['mp (°C)', 'nAliphRing', 'b.pKa']]).T"
   ]
  },
  {
   "cell_type": "code",
   "execution_count": 124,
   "metadata": {},
   "outputs": [
    {
     "name": "stdout",
     "output_type": "stream",
     "text": [
      "[[173.     1.    -6.63]\n",
      " [145.     1.    -6.64]\n",
      " [166.     2.     3.92]\n",
      " [125.     0.    -5.08]\n",
      " [121.     0.     2.84]\n",
      " [ 81.     0.    -4.93]\n",
      " [158.     0.     0.08]\n",
      " [152.     3.    -0.88]\n",
      " [ 44.     1.    -1.44]\n",
      " [255.     1.     3.74]]\n"
     ]
    }
   ],
   "source": [
    "print(X)"
   ]
  },
  {
   "cell_type": "code",
   "execution_count": 125,
   "metadata": {},
   "outputs": [
    {
     "data": {
      "text/plain": [
       "LinearRegression(copy_X=True, fit_intercept=True, n_jobs=None, normalize=False)"
      ]
     },
     "execution_count": 125,
     "metadata": {},
     "output_type": "execute_result"
    }
   ],
   "source": [
    "regressor = LinearRegression()\n",
    "regressor.fit(X, dic['Kh Tg,meas (°C)'])"
   ]
  },
  {
   "cell_type": "code",
   "execution_count": 127,
   "metadata": {},
   "outputs": [],
   "source": [
    "predictions = regressor.predict(X)"
   ]
  },
  {
   "cell_type": "code",
   "execution_count": 128,
   "metadata": {},
   "outputs": [
    {
     "data": {
      "text/plain": [
       "[<matplotlib.lines.Line2D at 0x7f8295b10b00>]"
      ]
     },
     "execution_count": 128,
     "metadata": {},
     "output_type": "execute_result"
    },
    {
     "data": {
      "image/png": "[encoded data removed]",
      "text/plain": [
       "<Figure size 432x288 with 1 Axes>"
      ]
     },
     "metadata": {
      "needs_background": "light"
     },
     "output_type": "display_data"
    }
   ],
   "source": [
    "plt.plot(dic['Kh Tg,meas (°C)'], predictions, '.')"
   ]
  },
  {
   "cell_type": "code",
   "execution_count": 131,
   "metadata": {},
   "outputs": [
    {
     "name": "stdout",
     "output_type": "stream",
     "text": [
      "0.6757781403311435\n"
     ]
    }
   ],
   "source": [
    "print(np.corrcoef(dic['Kh Tg,meas (°C)'], predictions)[1, 0])"
   ]
  },
  {
   "cell_type": "code",
   "execution_count": 132,
   "metadata": {},
   "outputs": [],
   "source": [
    "apis = column_labels[1:]\n",
    "n_apis = len(apis)"
   ]
  },
  {
   "cell_type": "code",
   "execution_count": 139,
   "metadata": {},
   "outputs": [
    {
     "name": "stdout",
     "output_type": "stream",
     "text": [
      "   API        Tg (measured)    Tg (predicted)\n",
      "nifedipine           102.3         101.5\n",
      "felodipine           100.9         100.0\n",
      "itraconazole         103.6         104.2\n",
      "probucol             101.4          97.4\n",
      "ritonavir             96.3          98.3\n",
      "fenofibrate           84.8          95.0\n",
      "celecoxib            104.8          99.9\n",
      "estradiol            103.1         104.5\n",
      "orlistat             100.4          95.1\n",
      "aprepitant           106.0         107.4\n"
     ]
    }
   ],
   "source": [
    "print('   API        Tg (measured)    Tg (predicted)')\n",
    "for i in range(n_apis):\n",
    "    print('{:12s}{:14.1f}{:14.1f}'.format(apis[i], dic['Kh Tg,meas (°C)'][i], predictions[i]))"
   ]
  },
  {
   "cell_type": "code",
   "execution_count": null,
   "metadata": {},
   "outputs": [],
   "source": []
  }
 ],
 "metadata": {
  "kernelspec": {
   "display_name": "Python 3",
   "language": "python",
   "name": "python3"
  },
  "language_info": {
   "codemirror_mode": {
    "name": "ipython",
    "version": 3
   },
   "file_extension": ".py",
   "mimetype": "text/x-python",
   "name": "python",
   "nbconvert_exporter": "python",
   "pygments_lexer": "ipython3",
   "version": "3.6.8"
  }
 },
 "nbformat": 4,
 "nbformat_minor": 2
}
