{
 "cells": [
  {
   "cell_type": "code",
   "execution_count": 58,
   "metadata": {},
   "outputs": [],
   "source": [
    "import matplotlib.pyplot as plt\n",
    "%matplotlib inline\n",
    "import numpy as np"
   ]
  },
  {
   "cell_type": "code",
   "execution_count": 2,
   "metadata": {},
   "outputs": [],
   "source": [
    "apis = ['nifedipine', 'felodipine', 'itraconazole', 'probucol', 'ritonavir', \n",
    "        'fenofibrate', 'celecoxib', 'estradiol', 'orlistat', 'aprepitant']\n",
    "descriptors = {\n",
    "    \"nAliph\": [19, 19, 21, 23, 28, 13, 9, 14, 35, 20],\n",
    "    \"nAliphRing\": [1, 1, 2, 0, 0, 0, 0, 3, 1, 1],\n",
    "    \"nAr\": [6, 6, 28, 12, 22, 12, 17, 6, 0, 17],\n",
    "    \"nArRing\": [1, 1, 5, 2, 4, 2, 3, 1, 0, 3],\n",
    "    \"ASA (Å2)\": [533, 583, 976, 874, 981, 642, 602, 392, 985, 679],\n",
    "    \"nAtom\": [43, 44, 87, 83, 98, 46, 40, 44, 88, 58],\n",
    "    \"avPol (Å3)\": [33, 37, 74, 62, 76, 38, 35, 32, 61, 44],\n",
    "    \"nBond\": [44, 45, 93, 84, 101, 47, 42, 47, 88, 61],\n",
    "    \"nChir\": [0, 1, 3, 0, 4, 0, 0, 5, 4, 3],\n",
    "    \"HBA\": [5, 3, 9, 2, 6, 3, 3, 2, 3, 6],\n",
    "    \"HBD\": [1, 1, 0, 2, 4, 0, 1, 2, 1, 2],\n",
    "    \"nHet\": [8, 7, 14, 4, 13, 5, 9, 2, 6, 14],\n",
    "    \"HLB\": [16, 11, 5, 2, 4, 4, 4, 2, 3, 16],\n",
    "    \"logS0 (M)\": [-3, -4, -9, -11, -8, -6, -6, -4, -11, -6],\n",
    "    \"logP\": [1.82, 3.44, 7.31, 10.57, 5.22, 5.28, 4.01, 3.75, 8.11, 4.52],\n",
    "    \"MW\": [346.3, 384.3, 705.6, 519.8, 721.0, 360.8, 381.4, 272.4, 495.8, 534.4],\n",
    "    \"molPol (Å3)\": [33, 37, 71, 61, 75, 38, 36, 31, 56, 43],\n",
    "    \"mp (°C)\": [173, 145, 166, 125, 121, 81, 158, 152, 44, 255],\n",
    "    \"nC\": [17, 18, 35, 31, 37, 20, 17, 18, 29, 23],\n",
    "    \"nCl\": [0, 2, 2, 0, 0, 1, 0, 0, 0, 0],\n",
    "    \"nF\": [0, 0, 0, 0, 0, 0, 3, 0, 0, 7],\n",
    "    \"nN\": [2, 1, 8, 0, 6, 0, 3, 0, 1, 4],\n",
    "    \"nO\": [6, 4, 4, 2, 5, 4, 2, 2, 5, 3],\n",
    "    \"nS\": [0, 0, 0, 2, 2, 0, 1, 0, 0, 0],\n",
    "    \"nRing\": [2, 2, 7, 2, 4, 2, 3, 4, 1, 4],\n",
    "    \"nRot\": [6, 6, 11, 8, 18, 7, 4, 0, 23, 8],\n",
    "    \"sp2\": [12, 12, 22, 12, 21, 14, 15, 6, 3, 14],\n",
    "    \"sp3\": [5, 6, 13, 19, 16, 6, 2, 12, 26, 9],\n",
    "    \"b.pKa\": [-6.63, -6.64, 3.92, -5.08, 2.84, -4.93, 0.08, -0.88, -1.44, 3.74],\n",
    "    \"tPSA (Å2)\": [107.8, 64.6, 100.8, 40.5, 145.8, 52.6, 78.0, 40.5, 81.7, 75.2],\n",
    "    \"vdW-SA (Å2)\": [466, 493, 965, 916, 1065, 533, 484, 437, 925, 656],\n",
    "    \"Sh Tg,meas (°C)\": [70.2, 68.2, 68.5, 68.9, 66.6, 56.1, 72.7, 64.2, 67.74, 74.3],\n",
    "    \"Ss Tg,meas (°C)\": [71.2, 67.8, 70.0, 67.0, 68.3, 57.5, 71.7, 68.0, 68.41, 74.2],\n",
    "    \"Kh Tg,meas (°C)\": [102.3, 100.9, 103.6, 101.4, 96.3, 84.8, 104.8, 103.1, 100.36, 106.0],\n",
    "    \"Ks Tg,meas (°C)\": [104.8, 104.5, 109.9, 103.4, 102.5, 91.8, 103.7, 99.5, 103.41, 110.6],\n",
    "    \"Hh Tg,meas (°C)\": [105.3, 103.4, 109.0, 101.7, 97.6, 92.7, 102.0, 104.7, 102.05, 102.05],\n",
    "    \"Hs Tg,meas (°C)\": [103.7, 103.7, 109.3, 104.3, 102.6, 91.1, 103.7, 100.0, 94.8, 110.0],\n",
    "    \"S Tg,pred (°C)\": [67.5, 67.5, 68.8, 65.7, 67.9, 61.1, 68.8, 71.5, 58.5, 66.6],\n",
    "    \"P Tg,pred (°C)\": [95.4, 95.4, 96.7, 93.6, 95.8, 89.0, 96.7, 99.4, 86.4, 94.5],\n",
    "    \"H Tg,pred (°C)\": [112.5, 112.5, 113.8, 110.7, 112.9, 106.1, 113.8, 116.5, 103.5, 111.6]\n",
    "}"
   ]
  },
  {
   "cell_type": "code",
   "execution_count": 3,
   "metadata": {},
   "outputs": [],
   "source": [
    "systems = ['SOL HME', 'SOL SD', 'PVPVA HME', 'PVPVA SD', 'HPMCAS HME', 'HPMCAS SD' ]\n",
    "\n",
    "log_stabilities = [\n",
    "    [2.25,  2.05,  1.85,  2.23,  1.80,  1.45],\n",
    "    [2.27,  2.07,  2.09,  2.13,  0.86,  1.74],\n",
    "    [2.06,  1.70,  2.09,  2.13,  1.80,  2.05],\n",
    "    [2.25,  2.58,  1.46,  0.89,  0.87,  2.07],\n",
    "    [2.06,  1.69,  1.46,  2.13,  0.19,  2.05],\n",
    "    [2.26,  1.45,  1.46,  0.17,  1.68,  2.05],\n",
    "    [2.25,  2.04,  1.85,  2.25,  1.83,  1.45],\n",
    "    [2.04,  2.05,  2.07,  1.81,  0.17,  2.27],\n",
    "    [2.06,  1.45,  1.85,  2.23,  0.84,  2.27],\n",
    "    [1.75,  2.04,  0.17,  1.79,  0.00,  2.05]]"
   ]
  },
  {
   "cell_type": "code",
   "execution_count": 4,
   "metadata": {},
   "outputs": [
    {
     "name": "stdout",
     "output_type": "stream",
     "text": [
      "[2.25, 2.27, 2.06, 2.25, 2.06, 2.26, 2.25, 2.04, 2.06, 1.75]\n"
     ]
    }
   ],
   "source": [
    "system = 'SOL HME'\n",
    "system_id = systems.index(system)\n",
    "log_stability = [l[system_id] for l in log_stabilities]\n",
    "print(log_stability)"
   ]
  },
  {
   "cell_type": "code",
   "execution_count": 5,
   "metadata": {},
   "outputs": [
    {
     "name": "stdout",
     "output_type": "stream",
     "text": [
      "4.325 2.25\n",
      "3.625 2.27\n",
      "4.15 2.06\n",
      "3.125 2.25\n",
      "3.025 2.06\n",
      "2.025 2.26\n",
      "3.95 2.25\n",
      "3.8 2.04\n",
      "1.1 2.06\n",
      "6.375 1.75\n"
     ]
    }
   ],
   "source": [
    "for i in range(10):\n",
    "    print(descriptors[\"mp (°C)\"][i] / 40 , log_stability[i])"
   ]
  },
  {
   "cell_type": "code",
   "execution_count": 6,
   "metadata": {},
   "outputs": [
    {
     "name": "stdout",
     "output_type": "stream",
     "text": [
      "[[ 1.        -0.4882741]\n",
      " [-0.4882741  1.       ]]\n"
     ]
    }
   ],
   "source": [
    "from numpy import corrcoef\n",
    "print(corrcoef(descriptors[\"mp (°C)\"], log_stability))"
   ]
  },
  {
   "cell_type": "code",
   "execution_count": 8,
   "metadata": {},
   "outputs": [
    {
     "name": "stdout",
     "output_type": "stream",
     "text": [
      "nAliph -0.29199907796890906\n",
      "nAliphRing -0.3745910700240065\n",
      "nAr -0.2573863714777041\n",
      "nArRing -0.2729437248053196\n",
      "ASA (Å2) -0.1786711083132543\n",
      "nAtom -0.2878502994988707\n",
      "avPol (Å3) -0.239972409766177\n",
      "nBond -0.3153972545348206\n",
      "nChir -0.7114494543874238\n",
      "HBA -0.44726846379697893\n",
      "HBD -0.3430835126218483\n",
      "nHet -0.51162428581195\n",
      "HLB -0.2511452556193642\n",
      "logS0 (M) 0.12204609171892726\n",
      "logP -0.02439951468937298\n",
      "MW -0.3898711893707941\n",
      "molPol (Å3) -0.21169038228918322\n",
      "mp (°C) -0.4882740951865812\n",
      "nC -0.2824271854411421\n",
      "nCl 0.23298329216312963\n",
      "nF -0.6539150600321684\n",
      "nN -0.4147997993942027\n",
      "nO 0.07809155968694383\n",
      "nS 0.1934945985761586\n",
      "nRing -0.46004641470085844\n",
      "nRot -0.22995473937373792\n",
      "sp2 -0.02834496256770445\n",
      "sp3 -0.27697794966829486\n",
      "b.pKa -0.766974701167147\n",
      "tPSA (Å2) -0.1685522004482962\n",
      "vdW-SA (Å2) -0.26907776586750426\n",
      "Sh Tg,meas (°C) -0.3444206156388317\n",
      "Ss Tg,meas (°C) -0.4869072187024778\n",
      "Kh Tg,meas (°C) -0.3738429634545054\n",
      "Ks Tg,meas (°C) -0.5021961302044601\n",
      "Hh Tg,meas (°C) -0.1670968712434061\n",
      "Hs Tg,meas (°C) -0.39046756571290087\n",
      "S Tg,pred (°C) -0.07928553181097303\n",
      "P Tg,pred (°C) -0.07928553181097335\n",
      "H Tg,pred (°C) -0.07928553181097318\n"
     ]
    }
   ],
   "source": [
    "for descriptor_name in descriptors:\n",
    "    print(descriptor_name, corrcoef(descriptors[descriptor_name], log_stability)[0,1])"
   ]
  },
  {
   "cell_type": "code",
   "execution_count": 10,
   "metadata": {},
   "outputs": [
    {
     "data": {
      "text/plain": [
       "Text(0,0.5,'log_stability')"
      ]
     },
     "execution_count": 10,
     "metadata": {},
     "output_type": "execute_result"
    },
    {
     "data": {
      "image/png": "[encoded data removed]",
      "text/plain": [
       "<Figure size 432x288 with 1 Axes>"
      ]
     },
     "metadata": {},
     "output_type": "display_data"
    }
   ],
   "source": [
    "import matplotlib.pyplot as plt\n",
    "%matplotlib inline\n",
    "plt.plot(descriptors['b.pKa'], log_stability, 'o')\n",
    "plt.xlabel('b.pKa')\n",
    "plt.ylabel('log_stability')"
   ]
  },
  {
   "cell_type": "code",
   "execution_count": 24,
   "metadata": {},
   "outputs": [
    {
     "name": "stdout",
     "output_type": "stream",
     "text": [
      "nChir 0.4034399816875105\n",
      "nHet 0.5020986841941221\n",
      "nF 0.22952543381388216\n",
      "Ks Tg,meas (°C) 0.2289406680600106\n"
     ]
    }
   ],
   "source": [
    "for descriptor_name in ['nChir', 'nHet', 'nF', 'Ks Tg,meas (°C)']:\n",
    "    r_squared = corrcoef(descriptors[descriptor_name], descriptors['b.pKa'])[0,1]**2\n",
    "    print(descriptor_name, r_squared)"
   ]
  },
  {
   "cell_type": "code",
   "execution_count": 25,
   "metadata": {},
   "outputs": [
    {
     "name": "stdout",
     "output_type": "stream",
     "text": [
      "0.22019217721393122\n"
     ]
    }
   ],
   "source": [
    "print(corrcoef(descriptors['nF'], descriptors['Ks Tg,meas (°C)'])[0,1]**2)"
   ]
  },
  {
   "cell_type": "markdown",
   "metadata": {},
   "source": [
    "The three descriptors that correlate best with the log_stability data and most weakly with each other are 'b.pKa', ''nF', and 'Ks Tg,meas (°C)'.\n",
    "\n",
    "Use these for MLR:\n"
   ]
  },
  {
   "cell_type": "code",
   "execution_count": 22,
   "metadata": {},
   "outputs": [
    {
     "name": "stdout",
     "output_type": "stream",
     "text": [
      "m =  [-0.0305097]\n",
      "c =  2.0791744367292697\n"
     ]
    },
    {
     "data": {
      "text/plain": [
       "Text(0,0.5,'log_stability (pred.)')"
      ]
     },
     "execution_count": 22,
     "metadata": {},
     "output_type": "execute_result"
    },
    {
     "data": {
      "image/png": "[encoded data removed]",
      "text/plain": [
       "<Figure size 432x288 with 1 Axes>"
      ]
     },
     "metadata": {},
     "output_type": "display_data"
    }
   ],
   "source": [
    "from sklearn.linear_model import LinearRegression\n",
    "from numpy import array\n",
    "regressor = LinearRegression()\n",
    "training_data = array([descriptors['b.pKa']]).T\n",
    "result = regressor.fit(training_data, log_stability)\n",
    "print('m = ', result.coef_)\n",
    "print('c = ', result.intercept_)\n",
    "predicted_log_stability = regressor.predict(training_data)\n",
    "\n",
    "r_squared = corrcoef(log_stability, predicted_log_stability)[1, 0]**2\n",
    "plt.plot(log_stability, predicted_log_stability, '*')\n",
    "plt.title('Performance of MLR model: Rsquared = {:3.2f}'.format(r_squared))\n",
    "plt.xlabel('log_stability (expt.)')\n",
    "plt.ylabel('log_stability (pred.)')"
   ]
  },
  {
   "cell_type": "code",
   "execution_count": 27,
   "metadata": {},
   "outputs": [],
   "source": [
    "chosen_descriptors = ['b.pKa', 'nF', 'Ks Tg,meas (°C)']\n",
    "#chosen_descriptors = ['b.pKa', 'nF', 'Ks Tg,meas (°C)', 'sp3']\n",
    "training_data = array([descriptors[descriptor] for descriptor in chosen_descriptors]).T"
   ]
  },
  {
   "cell_type": "code",
   "execution_count": 28,
   "metadata": {},
   "outputs": [],
   "source": [
    "regressor = LinearRegression()\n",
    "result = regressor.fit(training_data, log_stability)"
   ]
  },
  {
   "cell_type": "code",
   "execution_count": 29,
   "metadata": {},
   "outputs": [],
   "source": [
    "predicted_log_stability = regressor.predict(training_data)"
   ]
  },
  {
   "cell_type": "code",
   "execution_count": 31,
   "metadata": {},
   "outputs": [
    {
     "data": {
      "text/plain": [
       "Text(0,0.5,'log_stability (pred.)')"
      ]
     },
     "execution_count": 31,
     "metadata": {},
     "output_type": "execute_result"
    },
    {
     "data": {
      "image/png": "[encoded data removed]",
      "text/plain": [
       "<Figure size 432x288 with 1 Axes>"
      ]
     },
     "metadata": {},
     "output_type": "display_data"
    }
   ],
   "source": [
    "r_squared = corrcoef(log_stability, predicted_log_stability)[1, 0] ** 2\n",
    "plt.plot(log_stability, predicted_log_stability, '*')\n",
    "plt.title('Performance of MLR model: Rsquared = {:3.2f}'.format(r_squared))\n",
    "plt.xlabel('log_stability (expt.)')\n",
    "plt.ylabel('log_stability (pred.)')"
   ]
  },
  {
   "cell_type": "code",
   "execution_count": 32,
   "metadata": {},
   "outputs": [
    {
     "name": "stdout",
     "output_type": "stream",
     "text": [
      "   API        log_stability  log_stability\n",
      "              (measured)     (predicted)\n",
      "nifedipine        2.25          2.26\n",
      "felodipine        2.27          2.26\n",
      "itraconazole      2.06          2.01\n",
      "probucol          2.25          2.23\n",
      "ritonavir         2.06          2.05\n",
      "fenofibrate       2.26          2.25\n",
      "celecoxib         2.25          2.04\n",
      "estradiol         2.04          2.14\n",
      "orlistat          2.06          2.15\n",
      "aprepitant        1.75          1.84\n"
     ]
    }
   ],
   "source": [
    "n_apis = len(apis)\n",
    "print('   API        log_stability  log_stability')\n",
    "print('              (measured)     (predicted)')\n",
    "for i in range(n_apis):\n",
    "    print('{:12s}{:10.2f}  {:12.2f}'.format(apis[i], log_stability[i], predicted_log_stability[i]))"
   ]
  },
  {
   "cell_type": "code",
   "execution_count": 76,
   "metadata": {},
   "outputs": [
    {
     "name": "stdout",
     "output_type": "stream",
     "text": [
      "nAliph 1.9235384061671343\n",
      "nAliphRing 1.0606601717798212\n",
      "nAr 0.5829988340034981\n",
      "nArRing 0.5834599659915782\n",
      "ASA (Å2) 0.6518725055962279\n",
      "nAtom 1.1884187852551025\n",
      "avPol (Å3) 0.9517135556150417\n",
      "nBond 1.1651085494082347\n",
      "nChir 1.1867816581938533\n",
      "HBA 0.603022689155527\n",
      "HBD 0.3813850356982369\n",
      "nHet 0.20894067906222816\n",
      "HLB 0.5518254055364692\n",
      "logS0 (M) 0.31234752377721225\n",
      "logP 0.6112890811655298\n",
      "MW 0.6799334949237394\n",
      "molPol (Å3) 0.8536805799614309\n",
      "mp (°C) 0.316243825681386\n",
      "nC 1.134023029066286\n",
      "nCl 0.6681531047810609\n",
      "nF 1.0101525445522108\n",
      "nN 0.20178357806781538\n",
      "nO 1.468576323488312\n",
      "nS 0.6681531047810609\n",
      "nRing 0.06428243465332253\n",
      "nRot 0.8697956671643063\n",
      "sp2 0.366334196457857\n",
      "sp3 1.5861731715976437\n",
      "b.pKa 0.426197067852969\n",
      "tPSA (Å2) 0.02543981484401898\n",
      "vdW-SA (Å2) 0.9953127544171356\n",
      "Sh Tg,meas (°C) 1.1743468787731306\n",
      "Ss Tg,meas (°C) 0.8555154125390143\n",
      "Kh Tg,meas (°C) 0.8396468408896246\n",
      "Ks Tg,meas (°C) 0.06116841805263415\n",
      "Hh Tg,meas (°C) 0.012596756465592688\n",
      "Hs Tg,meas (°C) 0.2642107814383044\n",
      "S Tg,pred (°C) 0.7134737950172166\n",
      "P Tg,pred (°C) 0.7134737950172166\n",
      "H Tg,pred (°C) 0.7134737950172164\n"
     ]
    }
   ],
   "source": [
    "for descriptor in descriptors:\n",
    "    values = np.array(descriptors[descriptor])\n",
    "    mean = values[[0,1,2,3,4,5,7,8,9]].mean()\n",
    "    std = values[[0,1,2,3,4,5,7,8,9]].std()\n",
    "    sigma = np.abs(values[6] - mean) /std\n",
    "    print(descriptor, sigma)\n",
    "    "
   ]
  },
  {
   "cell_type": "code",
   "execution_count": 16,
   "metadata": {},
   "outputs": [
    {
     "name": "stdout",
     "output_type": "stream",
     "text": [
      "Help on LinearRegression in module sklearn.linear_model.base object:\n",
      "\n",
      "class LinearRegression(LinearModel, sklearn.base.RegressorMixin)\n",
      " |  Ordinary least squares Linear Regression.\n",
      " |  \n",
      " |  Parameters\n",
      " |  ----------\n",
      " |  fit_intercept : boolean, optional, default True\n",
      " |      whether to calculate the intercept for this model. If set\n",
      " |      to False, no intercept will be used in calculations\n",
      " |      (e.g. data is expected to be already centered).\n",
      " |  \n",
      " |  normalize : boolean, optional, default False\n",
      " |      This parameter is ignored when ``fit_intercept`` is set to False.\n",
      " |      If True, the regressors X will be normalized before regression by\n",
      " |      subtracting the mean and dividing by the l2-norm.\n",
      " |      If you wish to standardize, please use\n",
      " |      :class:`sklearn.preprocessing.StandardScaler` before calling ``fit`` on\n",
      " |      an estimator with ``normalize=False``.\n",
      " |  \n",
      " |  copy_X : boolean, optional, default True\n",
      " |      If True, X will be copied; else, it may be overwritten.\n",
      " |  \n",
      " |  n_jobs : int or None, optional (default=None)\n",
      " |      The number of jobs to use for the computation. This will only provide\n",
      " |      speedup for n_targets > 1 and sufficient large problems.\n",
      " |      ``None`` means 1 unless in a :obj:`joblib.parallel_backend` context.\n",
      " |      ``-1`` means using all processors. See :term:`Glossary <n_jobs>`\n",
      " |      for more details.\n",
      " |  \n",
      " |  Attributes\n",
      " |  ----------\n",
      " |  coef_ : array, shape (n_features, ) or (n_targets, n_features)\n",
      " |      Estimated coefficients for the linear regression problem.\n",
      " |      If multiple targets are passed during the fit (y 2D), this\n",
      " |      is a 2D array of shape (n_targets, n_features), while if only\n",
      " |      one target is passed, this is a 1D array of length n_features.\n",
      " |  \n",
      " |  intercept_ : array\n",
      " |      Independent term in the linear model.\n",
      " |  \n",
      " |  Examples\n",
      " |  --------\n",
      " |  >>> import numpy as np\n",
      " |  >>> from sklearn.linear_model import LinearRegression\n",
      " |  >>> X = np.array([[1, 1], [1, 2], [2, 2], [2, 3]])\n",
      " |  >>> # y = 1 * x_0 + 2 * x_1 + 3\n",
      " |  >>> y = np.dot(X, np.array([1, 2])) + 3\n",
      " |  >>> reg = LinearRegression().fit(X, y)\n",
      " |  >>> reg.score(X, y)\n",
      " |  1.0\n",
      " |  >>> reg.coef_\n",
      " |  array([1., 2.])\n",
      " |  >>> reg.intercept_ # doctest: +ELLIPSIS\n",
      " |  3.0000...\n",
      " |  >>> reg.predict(np.array([[3, 5]]))\n",
      " |  array([16.])\n",
      " |  \n",
      " |  Notes\n",
      " |  -----\n",
      " |  From the implementation point of view, this is just plain Ordinary\n",
      " |  Least Squares (scipy.linalg.lstsq) wrapped as a predictor object.\n",
      " |  \n",
      " |  Method resolution order:\n",
      " |      LinearRegression\n",
      " |      LinearModel\n",
      " |      abc.NewBase\n",
      " |      sklearn.base.BaseEstimator\n",
      " |      sklearn.base.RegressorMixin\n",
      " |      builtins.object\n",
      " |  \n",
      " |  Methods defined here:\n",
      " |  \n",
      " |  __init__(self, fit_intercept=True, normalize=False, copy_X=True, n_jobs=None)\n",
      " |      Initialize self.  See help(type(self)) for accurate signature.\n",
      " |  \n",
      " |  fit(self, X, y, sample_weight=None)\n",
      " |      Fit linear model.\n",
      " |      \n",
      " |      Parameters\n",
      " |      ----------\n",
      " |      X : array-like or sparse matrix, shape (n_samples, n_features)\n",
      " |          Training data\n",
      " |      \n",
      " |      y : array_like, shape (n_samples, n_targets)\n",
      " |          Target values. Will be cast to X's dtype if necessary\n",
      " |      \n",
      " |      sample_weight : numpy array of shape [n_samples]\n",
      " |          Individual weights for each sample\n",
      " |      \n",
      " |          .. versionadded:: 0.17\n",
      " |             parameter *sample_weight* support to LinearRegression.\n",
      " |      \n",
      " |      Returns\n",
      " |      -------\n",
      " |      self : returns an instance of self.\n",
      " |  \n",
      " |  ----------------------------------------------------------------------\n",
      " |  Data and other attributes defined here:\n",
      " |  \n",
      " |  __abstractmethods__ = frozenset()\n",
      " |  \n",
      " |  ----------------------------------------------------------------------\n",
      " |  Methods inherited from LinearModel:\n",
      " |  \n",
      " |  predict(self, X)\n",
      " |      Predict using the linear model\n",
      " |      \n",
      " |      Parameters\n",
      " |      ----------\n",
      " |      X : array_like or sparse matrix, shape (n_samples, n_features)\n",
      " |          Samples.\n",
      " |      \n",
      " |      Returns\n",
      " |      -------\n",
      " |      C : array, shape (n_samples,)\n",
      " |          Returns predicted values.\n",
      " |  \n",
      " |  ----------------------------------------------------------------------\n",
      " |  Methods inherited from sklearn.base.BaseEstimator:\n",
      " |  \n",
      " |  __getstate__(self)\n",
      " |  \n",
      " |  __repr__(self)\n",
      " |      Return repr(self).\n",
      " |  \n",
      " |  __setstate__(self, state)\n",
      " |  \n",
      " |  get_params(self, deep=True)\n",
      " |      Get parameters for this estimator.\n",
      " |      \n",
      " |      Parameters\n",
      " |      ----------\n",
      " |      deep : boolean, optional\n",
      " |          If True, will return the parameters for this estimator and\n",
      " |          contained subobjects that are estimators.\n",
      " |      \n",
      " |      Returns\n",
      " |      -------\n",
      " |      params : mapping of string to any\n",
      " |          Parameter names mapped to their values.\n",
      " |  \n",
      " |  set_params(self, **params)\n",
      " |      Set the parameters of this estimator.\n",
      " |      \n",
      " |      The method works on simple estimators as well as on nested objects\n",
      " |      (such as pipelines). The latter have parameters of the form\n",
      " |      ``<component>__<parameter>`` so that it's possible to update each\n",
      " |      component of a nested object.\n",
      " |      \n",
      " |      Returns\n",
      " |      -------\n",
      " |      self\n",
      " |  \n",
      " |  ----------------------------------------------------------------------\n",
      " |  Data descriptors inherited from sklearn.base.BaseEstimator:\n",
      " |  \n",
      " |  __dict__\n",
      " |      dictionary for instance variables (if defined)\n",
      " |  \n",
      " |  __weakref__\n",
      " |      list of weak references to the object (if defined)\n",
      " |  \n",
      " |  ----------------------------------------------------------------------\n",
      " |  Methods inherited from sklearn.base.RegressorMixin:\n",
      " |  \n",
      " |  score(self, X, y, sample_weight=None)\n",
      " |      Returns the coefficient of determination R^2 of the prediction.\n",
      " |      \n",
      " |      The coefficient R^2 is defined as (1 - u/v), where u is the residual\n",
      " |      sum of squares ((y_true - y_pred) ** 2).sum() and v is the total\n",
      " |      sum of squares ((y_true - y_true.mean()) ** 2).sum().\n",
      " |      The best possible score is 1.0 and it can be negative (because the\n",
      " |      model can be arbitrarily worse). A constant model that always\n",
      " |      predicts the expected value of y, disregarding the input features,\n",
      " |      would get a R^2 score of 0.0.\n",
      " |      \n",
      " |      Parameters\n",
      " |      ----------\n",
      " |      X : array-like, shape = (n_samples, n_features)\n",
      " |          Test samples. For some estimators this may be a\n",
      " |          precomputed kernel matrix instead, shape = (n_samples,\n",
      " |          n_samples_fitted], where n_samples_fitted is the number of\n",
      " |          samples used in the fitting for the estimator.\n",
      " |      \n",
      " |      y : array-like, shape = (n_samples) or (n_samples, n_outputs)\n",
      " |          True values for X.\n",
      " |      \n",
      " |      sample_weight : array-like, shape = [n_samples], optional\n",
      " |          Sample weights.\n",
      " |      \n",
      " |      Returns\n",
      " |      -------\n",
      " |      score : float\n",
      " |          R^2 of self.predict(X) wrt. y.\n",
      "\n"
     ]
    }
   ],
   "source": [
    "help(regressor)"
   ]
  },
  {
   "cell_type": "code",
   "execution_count": null,
   "metadata": {},
   "outputs": [],
   "source": []
  }
 ],
 "metadata": {
  "kernelspec": {
   "display_name": "Python 3",
   "language": "python",
   "name": "python3"
  },
  "language_info": {
   "codemirror_mode": {
    "name": "ipython",
    "version": 3
   },
   "file_extension": ".py",
   "mimetype": "text/x-python",
   "name": "python",
   "nbconvert_exporter": "python",
   "pygments_lexer": "ipython3",
   "version": "3.6.8"
  }
 },
 "nbformat": 4,
 "nbformat_minor": 4
}
