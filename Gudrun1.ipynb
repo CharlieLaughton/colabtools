{
 "cells": [
  {
   "cell_type": "code",
   "execution_count": 58,
   "metadata": {},
   "outputs": [],
   "source": [
    "import matplotlib.pyplot as plt\n",
    "%matplotlib inline\n",
    "import numpy as np"
   ]
  },
  {
   "cell_type": "code",
   "execution_count": 59,
   "metadata": {},
   "outputs": [],
   "source": [
    "methods = ['SOL HME', 'SOL SD', 'PVPVA SOL', 'PVPVA SD', 'HPMCAS HME', 'HPMCAS SD' ]"
   ]
  },
  {
   "cell_type": "code",
   "execution_count": 60,
   "metadata": {},
   "outputs": [],
   "source": [
    "apis = ['nifedipine', 'felodipine', 'itraconazole', 'probucol', 'ritonavir', \n",
    "        'fenofibrate', 'celecoxib', 'estradiol', 'orlistat', 'aprepitant']\n",
    "\n",
    "descriptor_names = ['nAliph', 'nAliphRing', 'nAr', 'nArRing', 'ASA (Å2)', 'nAtom', 'avPol (Å3)', \n",
    "              'nBond', 'nChir', 'HBA', 'HBD', 'nHet', 'HLB', 'logS0 (M)', 'logP', 'MW', \n",
    "              'molPol (Å3)', 'mp (°C)', 'nC', 'nCl', 'nF', 'nN', 'nO', 'nS', 'nRing', \n",
    "              'nRot', 'sp2', 'sp3', 'b.pKa', 'tPSA (Å2)', 'vdW-SA (Å2)', 'Sh Tg,meas (°C)',\n",
    "              'Ss Tg,meas (°C)', 'Kh Tg,meas (°C)', 'Ks Tg,meas (°C)', 'Hh Tg,meas (°C)', \n",
    "              'Hs Tg,meas (°C)', 'S Tg,pred (°C)', 'P Tg,pred (°C)', 'H Tg,pred (°C)']\n",
    "\n",
    "descriptor_values = [[ 19,19,21,23,28,13,9,14,35,20 ],\n",
    "[ 1,1,2,0,0,0,0,3,1,1 ],\n",
    "[ 6,6,28,12,22,12,17,6,0,17 ],\n",
    "[ 1,1,5,2,4,2,3,1,0,3 ],\n",
    "[ 533,583,976,874,981,642,602,392,985,679 ],\n",
    "[ 43,44,87,83,98,46,40,44,88,58 ],\n",
    "[ 33,37,74,62,76,38,35,32,61,44 ],\n",
    "[ 44,45,93,84,101,47,42,47,88,61 ],\n",
    "[ 0,1,3,0,4,0,0,5,4,3 ],\n",
    "[ 5,3,9,2,6,3,3,2,3,6 ],\n",
    "[ 1,1,0,2,4,0,1,2,1,2 ],\n",
    "[ 8,7,14,4,13,5,9,2,6,14 ],\n",
    "[ 16,11,5,2,4,4,4,2,3,16 ],\n",
    "[ -3,-4,-9,-11,-8,-6,-6,-4,-11,-6 ],\n",
    "[ 1.82,3.44,7.31,10.57,5.22,5.28,4.01,3.75,8.11,4.52 ],\n",
    "[ 346.3,384.3,705.6,519.8,721.0,360.8,381.4,272.4,495.8,534.4 ],\n",
    "[ 33,37,71,61,75,38,36,31,56,43 ],\n",
    "[ 173,145,166,125,121,81,158,152,44,255 ],\n",
    "[ 17,18,35,31,37,20,17,18,29,23 ],\n",
    "[ 0,2,2,0,0,1,0,0,0,0 ],\n",
    "[ 0,0,0,0,0,0,3,0,0,7 ],\n",
    "[ 2,1,8,0,6,0,3,0,1,4 ],\n",
    "[ 6,4,4,2,5,4,2,2,5,3 ],\n",
    "[ 0,0,0,2,2,0,1,0,0,0 ],\n",
    "[ 2,2,7,2,4,2,3,4,1,4 ],\n",
    "[ 6,6,11,8,18,7,4,0,23,8 ],\n",
    "[ 12,12,22,12,21,14,15,6,3,14 ],\n",
    "[ 5,6,13,19,16,6,2,12,26,9 ],\n",
    "[ -6.63,-6.64,3.92,-5.08,2.84,-4.93,0.08,-0.88,-1.44,3.74 ],\n",
    "[ 107.8,64.6,100.8,40.5,145.8,52.6,78.0,40.5,81.7,75.2 ],\n",
    "[ 466,493,965,916,1065,533,484,437,925,656 ],\n",
    "[ 70.2,68.2,68.5,68.9,66.6,56.1,72.7,64.2,67.74444444444444,74.3 ],\n",
    "[ 71.2,67.8,70.0,67.0,68.3,57.5,71.7,68.0,68.41111111111111,74.2 ],\n",
    "[ 102.3,100.9,103.6,101.4,96.3,84.8,104.8,103.1,100.35555555555555,106.0 ],\n",
    "[ 104.8,104.5,109.9,103.4,102.5,91.8,103.7,99.5,103.41111111111111,110.6 ],\n",
    "[ 105.3,103.4,109.0,101.7,97.6,92.7,102.0,104.7,102.05000000000001,102.05000000000001 ],\n",
    "[ 103.7,103.7,109.3,104.3,102.6,91.1,103.7,100.0,94.8,110.0 ],\n",
    "[ 67.5,67.5,68.8,65.7,67.9,61.1,68.8,71.5,58.5,66.6 ],\n",
    "[ 95.4,95.4,96.7,93.6,95.8,89.0,96.7,99.4,86.4,94.5 ],\n",
    "[ 112.5,112.5,113.8,110.7,112.9,106.1,113.8,116.5,103.5,111.6 ]]"
   ]
  },
  {
   "cell_type": "code",
   "execution_count": 61,
   "metadata": {},
   "outputs": [],
   "source": [
    "methods = ['SOL HME', 'SOL SD', 'PVPVA SOL', 'PVPVA SD', 'HPMCAS HME', 'HPMCAS SD' ]\n",
    "\n",
    "log_stabilities = [\n",
    "    [2.25,  2.05,  1.85,  2.23,  1.80,  1.45],\n",
    "    [2.27,  2.07,  2.09,  2.13,  0.86,  1.74],\n",
    "    [2.06,  1.70,  2.09,  2.13,  1.80,  2.05],\n",
    "    [2.25,  2.58,  1.46,  0.89,  0.87,  2.07],\n",
    "    [2.06,  1.69,  1.46,  2.13,  0.19,  2.05],\n",
    "    [2.26,  1.45,  1.46,  0.17,  1.68,  2.05],\n",
    "    [2.25,  2.04,  1.85,  2.25,  1.83,  1.45],\n",
    "    [2.04,  2.05,  2.07,  1.81,  0.17,  2.27],\n",
    "    [2.06,  1.45,  1.85,  2.23,  0.84,  2.27],\n",
    "    [1.75,  2.04,  0.17,  1.79,  0.00,  2.05]]"
   ]
  },
  {
   "cell_type": "code",
   "execution_count": 62,
   "metadata": {},
   "outputs": [],
   "source": [
    "descriptors = {}\n",
    "for i in range(len(descriptor_names)):\n",
    "    descriptors[descriptor_names[i]] = descriptor_values[i]"
   ]
  },
  {
   "cell_type": "code",
   "execution_count": 63,
   "metadata": {},
   "outputs": [
    {
     "name": "stdout",
     "output_type": "stream",
     "text": [
      "[2.25, 2.27, 2.06, 2.25, 2.06, 2.26, 2.25, 2.04, 2.06, 1.75]\n"
     ]
    }
   ],
   "source": [
    "method_id = 0\n",
    "method = methods[method_id]\n",
    "log_stability = [l[method_id] for l in log_stabilities]\n",
    "print(log_stability)"
   ]
  },
  {
   "cell_type": "code",
   "execution_count": 64,
   "metadata": {},
   "outputs": [
    {
     "name": "stdout",
     "output_type": "stream",
     "text": [
      "nAliph -0.29199907796890906\n",
      "nAliphRing -0.3745910700240065\n",
      "nAr -0.2573863714777041\n",
      "nArRing -0.2729437248053196\n",
      "ASA (Å2) -0.1786711083132543\n",
      "nAtom -0.2878502994988707\n",
      "avPol (Å3) -0.239972409766177\n",
      "nBond -0.3153972545348206\n",
      "nChir -0.7114494543874238\n",
      "HBA -0.44726846379697893\n",
      "HBD -0.3430835126218483\n",
      "nHet -0.51162428581195\n",
      "HLB -0.2511452556193642\n",
      "logS0 (M) 0.12204609171892726\n",
      "logP -0.02439951468937298\n",
      "MW -0.3898711893707941\n",
      "molPol (Å3) -0.21169038228918322\n",
      "mp (°C) -0.4882740951865812\n",
      "nC -0.2824271854411421\n",
      "nCl 0.23298329216312963\n",
      "nF -0.6539150600321684\n",
      "nN -0.4147997993942027\n",
      "nO 0.07809155968694383\n",
      "nS 0.1934945985761586\n",
      "nRing -0.46004641470085844\n",
      "nRot -0.22995473937373792\n",
      "sp2 -0.02834496256770445\n",
      "sp3 -0.27697794966829486\n",
      "b.pKa -0.766974701167147\n",
      "tPSA (Å2) -0.1685522004482962\n",
      "vdW-SA (Å2) -0.26907776586750426\n",
      "Sh Tg,meas (°C) -0.3444593962021797\n",
      "Ss Tg,meas (°C) -0.48691817471665416\n",
      "Kh Tg,meas (°C) -0.3738111096501211\n",
      "Ks Tg,meas (°C) -0.5022053669639098\n",
      "Hh Tg,meas (°C) -0.16709687124340705\n",
      "Hs Tg,meas (°C) -0.39046756571290087\n",
      "S Tg,pred (°C) -0.07928553181097303\n",
      "P Tg,pred (°C) -0.07928553181097335\n",
      "H Tg,pred (°C) -0.07928553181097318\n"
     ]
    }
   ],
   "source": [
    "for descriptor_name in descriptors:\n",
    "    print(descriptor_name, np.corrcoef(descriptors[descriptor_name], log_stability)[0,1])"
   ]
  },
  {
   "cell_type": "code",
   "execution_count": 65,
   "metadata": {},
   "outputs": [
    {
     "data": {
      "text/plain": [
       "[<matplotlib.lines.Line2D at 0x7f0e2eaf87b8>]"
      ]
     },
     "execution_count": 65,
     "metadata": {},
     "output_type": "execute_result"
    },
    {
     "data": {
      "image/png": "[encoded data removed]",
      "text/plain": [
       "<Figure size 432x288 with 1 Axes>"
      ]
     },
     "metadata": {
      "needs_background": "light"
     },
     "output_type": "display_data"
    }
   ],
   "source": [
    "plt.plot(descriptors['b.pKa'], log_stability, 'o')"
   ]
  },
  {
   "cell_type": "code",
   "execution_count": 82,
   "metadata": {},
   "outputs": [
    {
     "name": "stdout",
     "output_type": "stream",
     "text": [
      "nChir 0.6351692543625758\n",
      "nHet 0.7085892210541465\n",
      "nF 0.47908812739816686\n",
      "Ks Tg,meas (°C) 0.4784777993097767\n"
     ]
    }
   ],
   "source": [
    "for descriptor_name in ['nChir', 'nHet', 'nF', 'Ks Tg,meas (°C)']:\n",
    "    r_squared = np.corrcoef(descriptors[descriptor_name], descriptors['b.pKa'])[0,1]\n",
    "    print(descriptor_name, r_squared)"
   ]
  },
  {
   "cell_type": "code",
   "execution_count": 83,
   "metadata": {},
   "outputs": [
    {
     "name": "stdout",
     "output_type": "stream",
     "text": [
      "0.46923620862561605\n"
     ]
    }
   ],
   "source": [
    "print(np.corrcoef(descriptors['nF'], descriptors['Ks Tg,meas (°C)'])[0,1])"
   ]
  },
  {
   "cell_type": "markdown",
   "metadata": {},
   "source": [
    "The three descriptors that correlate best with the log_stability data and most weakly with each other are 'b.pKa', ''nF', and 'Ks Tg,meas (°C)'.\n",
    "\n",
    "Use these for MLR:\n"
   ]
  },
  {
   "cell_type": "code",
   "execution_count": 68,
   "metadata": {},
   "outputs": [],
   "source": [
    "from sklearn.linear_model import LinearRegression"
   ]
  },
  {
   "cell_type": "code",
   "execution_count": 77,
   "metadata": {},
   "outputs": [],
   "source": [
    "#chosen_descriptors = ['b.pKa', 'nF', 'Ks Tg,meas (°C)']\n",
    "chosen_descriptors = ['b.pKa', 'nF', 'Ks Tg,meas (°C)', 'sp3']\n",
    "training_data = np.array([descriptors[descriptor] for descriptor in chosen_descriptors]).T"
   ]
  },
  {
   "cell_type": "code",
   "execution_count": 78,
   "metadata": {},
   "outputs": [],
   "source": [
    "regressor = LinearRegression()\n",
    "result = regressor.fit(training_data, log_stability)"
   ]
  },
  {
   "cell_type": "code",
   "execution_count": 79,
   "metadata": {},
   "outputs": [],
   "source": [
    "predictions = regressor.predict(training_data)"
   ]
  },
  {
   "cell_type": "code",
   "execution_count": 80,
   "metadata": {},
   "outputs": [
    {
     "data": {
      "text/plain": [
       "Text(0, 0.5, 'log_stability (pred.)')"
      ]
     },
     "execution_count": 80,
     "metadata": {},
     "output_type": "execute_result"
    },
    {
     "data": {
      "image/png": "[encoded data removed]",
      "text/plain": [
       "<Figure size 432x288 with 1 Axes>"
      ]
     },
     "metadata": {
      "needs_background": "light"
     },
     "output_type": "display_data"
    }
   ],
   "source": [
    "r_squared = np.corrcoef(log_stability, predictions)[1, 0]\n",
    "plt.plot(log_stability, predictions, '*')\n",
    "plt.title('Performance of MLR model: Rsquared = {:3.2f}'.format(r_squared))\n",
    "plt.xlabel('log_stability (expt.)')\n",
    "plt.ylabel('log_stability (pred.)')"
   ]
  },
  {
   "cell_type": "code",
   "execution_count": 81,
   "metadata": {},
   "outputs": [
    {
     "name": "stdout",
     "output_type": "stream",
     "text": [
      "   API        log_stability  log_stability\n",
      "              (measured)     (predicted)\n",
      "nifedipine        2.25          2.30\n",
      "felodipine        2.27          2.30\n",
      "itraconazole      2.06          2.06\n",
      "probucol          2.25          2.17\n",
      "ritonavir         2.06          2.05\n",
      "fenofibrate       2.26          2.27\n",
      "celecoxib         2.25          2.09\n",
      "estradiol         2.04          2.15\n",
      "orlistat          2.06          2.05\n",
      "aprepitant        1.75          1.82\n"
     ]
    }
   ],
   "source": [
    "n_apis = len(apis)\n",
    "print('   API        log_stability  log_stability')\n",
    "print('              (measured)     (predicted)')\n",
    "for i in range(n_apis):\n",
    "    print('{:12s}{:10.2f}  {:12.2f}'.format(apis[i], log_stability[i], predictions[i]))"
   ]
  },
  {
   "cell_type": "code",
   "execution_count": 76,
   "metadata": {},
   "outputs": [
    {
     "name": "stdout",
     "output_type": "stream",
     "text": [
      "nAliph 1.9235384061671343\n",
      "nAliphRing 1.0606601717798212\n",
      "nAr 0.5829988340034981\n",
      "nArRing 0.5834599659915782\n",
      "ASA (Å2) 0.6518725055962279\n",
      "nAtom 1.1884187852551025\n",
      "avPol (Å3) 0.9517135556150417\n",
      "nBond 1.1651085494082347\n",
      "nChir 1.1867816581938533\n",
      "HBA 0.603022689155527\n",
      "HBD 0.3813850356982369\n",
      "nHet 0.20894067906222816\n",
      "HLB 0.5518254055364692\n",
      "logS0 (M) 0.31234752377721225\n",
      "logP 0.6112890811655298\n",
      "MW 0.6799334949237394\n",
      "molPol (Å3) 0.8536805799614309\n",
      "mp (°C) 0.316243825681386\n",
      "nC 1.134023029066286\n",
      "nCl 0.6681531047810609\n",
      "nF 1.0101525445522108\n",
      "nN 0.20178357806781538\n",
      "nO 1.468576323488312\n",
      "nS 0.6681531047810609\n",
      "nRing 0.06428243465332253\n",
      "nRot 0.8697956671643063\n",
      "sp2 0.366334196457857\n",
      "sp3 1.5861731715976437\n",
      "b.pKa 0.426197067852969\n",
      "tPSA (Å2) 0.02543981484401898\n",
      "vdW-SA (Å2) 0.9953127544171356\n",
      "Sh Tg,meas (°C) 1.1743468787731306\n",
      "Ss Tg,meas (°C) 0.8555154125390143\n",
      "Kh Tg,meas (°C) 0.8396468408896246\n",
      "Ks Tg,meas (°C) 0.06116841805263415\n",
      "Hh Tg,meas (°C) 0.012596756465592688\n",
      "Hs Tg,meas (°C) 0.2642107814383044\n",
      "S Tg,pred (°C) 0.7134737950172166\n",
      "P Tg,pred (°C) 0.7134737950172166\n",
      "H Tg,pred (°C) 0.7134737950172164\n"
     ]
    }
   ],
   "source": [
    "for descriptor in descriptors:\n",
    "    values = np.array(descriptors[descriptor])\n",
    "    mean = values[[0,1,2,3,4,5,7,8,9]].mean()\n",
    "    std = values[[0,1,2,3,4,5,7,8,9]].std()\n",
    "    sigma = np.abs(values[6] - mean) /std\n",
    "    print(descriptor, sigma)\n",
    "    "
   ]
  },
  {
   "cell_type": "code",
   "execution_count": null,
   "metadata": {},
   "outputs": [],
   "source": []
  }
 ],
 "metadata": {
  "kernelspec": {
   "display_name": "Python 3",
   "language": "python",
   "name": "python3"
  },
  "language_info": {
   "codemirror_mode": {
    "name": "ipython",
    "version": 3
   },
   "file_extension": ".py",
   "mimetype": "text/x-python",
   "name": "python",
   "nbconvert_exporter": "python",
   "pygments_lexer": "ipython3",
   "version": "3.6.8"
  }
 },
 "nbformat": 4,
 "nbformat_minor": 2
}
