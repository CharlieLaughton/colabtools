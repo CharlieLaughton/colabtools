{
 "cells": [
  {
   "cell_type": "markdown",
   "metadata": {},
   "source": [
    "# Hi! In 20 minutes you are going to get a smattering of Python\n",
    "\n",
    "This is a **Jupyter Notebook**. You can use it to:\n",
    "\n",
    "1. Write notes, with *simple* but **useful** formatting.\n",
    "2. Write Python scripts\n",
    "3. **Run your Python scripts and see the output**\n",
    "\n",
    "**Jupyter notebooks** are a great way to use the power of Python to investigate scientific data.\n",
    "\n",
    "I'm going to start by explaining a bit about how to use a note book, so listen up..."
   ]
  },
  {
   "cell_type": "code",
   "execution_count": null,
   "metadata": {},
   "outputs": [],
   "source": []
  },
  {
   "cell_type": "markdown",
   "metadata": {},
   "source": [
    "[Next: variables](pcc1.ipynb)"
   ]
  }
 ],
 "metadata": {
  "kernelspec": {
   "display_name": "Python 3",
   "language": "python",
   "name": "python3"
  },
  "language_info": {
   "codemirror_mode": {
    "name": "ipython",
    "version": 3
   },
   "file_extension": ".py",
   "mimetype": "text/x-python",
   "name": "python",
   "nbconvert_exporter": "python",
   "pygments_lexer": "ipython3",
   "version": "3.6.8"
  }
 },
 "nbformat": 4,
 "nbformat_minor": 2
}
