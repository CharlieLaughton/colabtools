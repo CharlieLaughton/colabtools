{
 "cells": [
  {
   "cell_type": "markdown",
   "metadata": {},
   "source": [
    "# Functions\n",
    "\n",
    "The very first bit of Python you ever used was based on a **function**:\n",
    "```\n",
    "print('Hello World')\n",
    "```\n",
    "\n",
    "*print* is a function. Here it took an *argument* - a *string* 'Hello World' - and did somthing with it - caused it to be printed out on the screen.\n",
    "\n",
    "Functions can take more than one argument, and commonly their result is assigned to a variable (rarther than, e.g. being printed to the screen). Here's the function *pow*, which takes two arguments:\n",
    "\n",
    "```\n",
    "result = pow(2, 3)\n",
    "print(result)\n",
    "```\n",
    "\n",
    "Copy the two lines above into the cell below and then run it:"
   ]
  },
  {
   "cell_type": "code",
   "execution_count": null,
   "metadata": {},
   "outputs": [],
   "source": []
  },
  {
   "cell_type": "markdown",
   "metadata": {},
   "source": [
    "Can you guess what the function *pow()* does? To check, try changing one or both of the *arguments* to the function and re-running the cell."
   ]
  },
  {
   "cell_type": "markdown",
   "metadata": {},
   "source": [
    "Another very useful function in Python is *help*. This function takes one argument - which can be pretty much any other Python object - and tells you soemthing about it. So try this:\n",
    "```\n",
    "help(pow)\n",
    "```"
   ]
  },
  {
   "cell_type": "code",
   "execution_count": null,
   "metadata": {},
   "outputs": [],
   "source": []
  },
  {
   "cell_type": "markdown",
   "metadata": {},
   "source": [
    "## Summary:\n",
    "\n",
    "The aim of this crash course has been to give you just enough Python to understand the data science examples we will work through in the next session.\n",
    "\n",
    "If you want to know more there are an enormous variety of learning resources on line. Here are just a few of them:\n"
   ]
  },
  {
   "cell_type": "code",
   "execution_count": null,
   "metadata": {},
   "outputs": [],
   "source": []
  }
 ],
 "metadata": {
  "kernelspec": {
   "display_name": "Python 3",
   "language": "python",
   "name": "python3"
  },
  "language_info": {
   "codemirror_mode": {
    "name": "ipython",
    "version": 3
   },
   "file_extension": ".py",
   "mimetype": "text/x-python",
   "name": "python",
   "nbconvert_exporter": "python",
   "pygments_lexer": "ipython3",
   "version": "3.6.8"
  }
 },
 "nbformat": 4,
 "nbformat_minor": 2
}
