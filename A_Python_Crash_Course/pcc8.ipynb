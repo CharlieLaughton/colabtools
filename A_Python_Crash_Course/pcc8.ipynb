{
 "cells": [
  {
   "cell_type": "markdown",
   "metadata": {},
   "source": [
    "# Writing your own functions\n",
    "\n",
    "It's easy to create your own functions in Python. Here's an example:\n",
    "\n",
    "    def square(n):\n",
    "        n_squared = n * n\n",
    "        return n_squared\n",
    "\n",
    "Copy this code into the cell below and run it:"
   ]
  },
  {
   "cell_type": "code",
   "execution_count": null,
   "metadata": {},
   "outputs": [],
   "source": []
  },
  {
   "cell_type": "markdown",
   "metadata": {},
   "source": [
    "Nothing happened did it? That's because you have just *defined* the function, you have not used it. Try running the next cell now:"
   ]
  },
  {
   "cell_type": "code",
   "execution_count": null,
   "metadata": {},
   "outputs": [],
   "source": [
    "print(square(12))"
   ]
  },
  {
   "cell_type": "markdown",
   "metadata": {},
   "source": [
    "I hope you got 144!\n",
    "\n",
    "So the rules for creating functions are pretty straightforward:\n",
    "\n",
    "- the word `def` marks the line as introducing a function\n",
    "- the next word is its name - choose something meanngful!\n",
    "- in brackets, list the variables you want to process inside the function. It doesn't matter what you call them, \"n\" or \"v1\" or \"blah\" will all work, they are just place-holders for the real values that will be given to the function when you use it for real.\n",
    "- the next lines contain the code that does all the work - note how it is **indented** - very important!\n",
    "- once it's all done, don't forget to `return` the calculated result.\n",
    "\n",
    "\n",
    "## Summary:\n",
    "\n",
    "The aim of this crash course has been to give you just enough Python to understand the data science examples we will work through in the next session.\n",
    "\n",
    "If you want to know more there are an enormous variety of learning resources on line. Here are just a few of them:\n",
    "\n",
    "#### From Christopher Woods, a Research Software Engineerat the University of Bristol:\n",
    "\n",
    "* [Beginning Python](https://chryswoods.com/beginning_python/index.html)\n",
    " \n",
    "* [Intermediate Python](https://chryswoods.com/intermediate_python/index.html)\n",
    "\n",
    "#### PCWorld's suggestions:\n",
    "\n",
    "* https://www.pcworld.com/article/3287981/best-python-courses.html\n"
   ]
  },
  {
   "cell_type": "code",
   "execution_count": null,
   "metadata": {},
   "outputs": [],
   "source": []
  }
 ],
 "metadata": {
  "kernelspec": {
   "display_name": "Python 3",
   "language": "python",
   "name": "python3"
  },
  "language_info": {
   "codemirror_mode": {
    "name": "ipython",
    "version": 3
   },
   "file_extension": ".py",
   "mimetype": "text/x-python",
   "name": "python",
   "nbconvert_exporter": "python",
   "pygments_lexer": "ipython3",
   "version": "3.7.6"
  }
 },
 "nbformat": 4,
 "nbformat_minor": 2
}
