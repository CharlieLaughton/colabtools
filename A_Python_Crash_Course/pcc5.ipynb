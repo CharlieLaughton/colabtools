{
 "cells": [
  {
   "cell_type": "markdown",
   "metadata": {},
   "source": [
    "# Iterating\n",
    "\n",
    "If you have got a variable which is a **list** of values, very often you want to work through the list, and do something to each value in it - this is **iteration**.\n",
    "\n",
    "In Python, this is how you could print each of the values in a list of years:\n",
    "```\n",
    "recent_years = [2015, 2016, 2017, 2018, 2019]\n",
    "for year in recent_years:\n",
    "    print(year)\n",
    "```\n",
    "\n",
    "Copy or cut-and-pase the lines above into the cell below and check it out:"
   ]
  },
  {
   "cell_type": "code",
   "execution_count": null,
   "metadata": {},
   "outputs": [],
   "source": []
  },
  {
   "cell_type": "markdown",
   "metadata": {},
   "source": [
    "Notice:\n",
    "* the 'for x in y' way of **iterating** over a list of values.\n",
    "* how the following line is **indented** (by four spaces).\n",
    "\n",
    "Indentation is *really* important in Python (though it doesn't have to be exactly four spaces). Try changing the indentation in the cell to check this.\n",
    "\n",
    "------------\n",
    "\n",
    "Here's another way you could do the same thing:\n",
    "```\n",
    "for i in [0, 1, 2, 3, 4]:\n",
    "    print(recent_years[i])\n",
    "```\n",
    "\n",
    "Try it, in the cell below:"
   ]
  },
  {
   "cell_type": "code",
   "execution_count": null,
   "metadata": {},
   "outputs": [],
   "source": []
  },
  {
   "cell_type": "markdown",
   "metadata": {},
   "source": [
    "OK, but it's a bit tedious to have to write out the list of indices ([0, 1, 2, 3, ...etc]). Python gives a **function**, called *range()*, to automatically generate such lists:\n",
    "```\n",
    "for i in range(5):\n",
    "    print(recent_years[i])\n",
    "```\n",
    "Try it:"
   ]
  },
  {
   "cell_type": "code",
   "execution_count": null,
   "metadata": {},
   "outputs": [],
   "source": []
  },
  {
   "cell_type": "markdown",
   "metadata": {},
   "source": [
    "The example above requires that we know how many values there are in the list *recent_years*. If we don't know this, we can find it out by using the Python function *len()*, e.g.:\n",
    "```\n",
    "n_values = len(recent_years)\n",
    "for i in range(n_values):\n",
    "    print(recent_years[i])\n",
    "```\n",
    "Check it out:"
   ]
  },
  {
   "cell_type": "code",
   "execution_count": null,
   "metadata": {},
   "outputs": [],
   "source": []
  },
  {
   "cell_type": "markdown",
   "metadata": {},
   "source": [
    "In this section you have learned four different ways to achive the same goal. This is very typical of Python - nearly always there is always more than one way to do something, and the philosophy is that the \"best\" way is whatever way suits **you** best and is most easy for someone looking at your code to understand - there are no Brownie points in Python for being overly \"clever\"!"
   ]
  },
  {
   "cell_type": "markdown",
   "metadata": {},
   "source": [
    "[Next: Beyond Python lists: dictionaries](pcc6.ipynb)"
   ]
  }
 ],
 "metadata": {
  "kernelspec": {
   "display_name": "Python 3",
   "language": "python",
   "name": "python3"
  },
  "language_info": {
   "codemirror_mode": {
    "name": "ipython",
    "version": 3
   },
   "file_extension": ".py",
   "mimetype": "text/x-python",
   "name": "python",
   "nbconvert_exporter": "python",
   "pygments_lexer": "ipython3",
   "version": "3.6.7"
  }
 },
 "nbformat": 4,
 "nbformat_minor": 2
}
