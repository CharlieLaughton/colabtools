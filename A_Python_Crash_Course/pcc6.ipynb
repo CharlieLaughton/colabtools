{
 "cells": [
  {
   "cell_type": "markdown",
   "metadata": {},
   "source": [
    "# Beyond Python lists: dictionaries\n",
    "\n",
    "Python lists are one way of storing collecions of variables, another powerful approach is to use **Dictionaries**\n",
    "\n",
    "Python lists are useful when the list of items in it are all of the same type, and have some relation to each other:\n",
    "\n",
    "```\n",
    "recent_years = [2016, 2017, 2018, 2019]\n",
    "winter_months= ['December', 'January', February']\n",
    "```\n",
    "\n",
    "But if you want to collect together items that have a relation to each other, but are not all of the same type, then a **dictionary** may be what you need:\n",
    "\n",
    "```\n",
    "important_event = {'name': 'Christmas', 'date': 25, 'month': 'December'}\n",
    "```\n",
    "Notice the use of *braces* (curly brackets, \"{}\") to signal a dictionary is being defined, instead of square brackets (\"[]\") used when a list is being defined.\n",
    "\n",
    "Each element in a Python dictionary is a **key:value pair**. The **key** is a *string* (something in quotes), the **value** is anything you like - a *string*, or an *integer*, or a *float*, or whatever.\n",
    "\n",
    "While you get at an element in a **list** by specifying its *index* - its position in the list - you get at an element in a **dictionary** by specifying its *key*:\n",
    "\n",
    "```\n",
    "important_event = {'name': 'Christmas', 'date': 25, 'month': 'December'}\n",
    "print(important_event['name'], ' happens in ', important_event['month'])\n",
    "```\n",
    "\n",
    "Cut and paste the two lines above into the cell below and then run it:\n"
   ]
  },
  {
   "cell_type": "code",
   "execution_count": null,
   "metadata": {},
   "outputs": [],
   "source": []
  },
  {
   "cell_type": "markdown",
   "metadata": {},
   "source": [
    "Here's another way to do the same thing: create an **\"empty\"\"** dictionary, and then add the data to it:\n",
    "```\n",
    "important_event = {}\n",
    "important_event['name'] = 'Christmas'\n",
    "important_event['date'] = 25\n",
    "important_event['month'] = 'December'\n",
    "print(important_event['name'], ' happens in ', important_event['month'])\n",
    "```\n",
    "\n",
    "Check for yourself you get the same result:"
   ]
  },
  {
   "cell_type": "code",
   "execution_count": null,
   "metadata": {},
   "outputs": [],
   "source": []
  },
  {
   "cell_type": "markdown",
   "metadata": {},
   "source": [
    "[Next: Functions](pcc7.ipynb)"
   ]
  },
  {
   "cell_type": "code",
   "execution_count": null,
   "metadata": {},
   "outputs": [],
   "source": []
  }
 ],
 "metadata": {
  "kernelspec": {
   "display_name": "Python 3",
   "language": "python",
   "name": "python3"
  },
  "language_info": {
   "codemirror_mode": {
    "name": "ipython",
    "version": 3
   },
   "file_extension": ".py",
   "mimetype": "text/x-python",
   "name": "python",
   "nbconvert_exporter": "python",
   "pygments_lexer": "ipython3",
   "version": "3.6.7"
  }
 },
 "nbformat": 4,
 "nbformat_minor": 2
}
