{
 "cells": [
  {
   "cell_type": "markdown",
   "metadata": {},
   "source": [
    "# More on lists\n",
    "\n",
    "As you have just discovered, Python counts from zero, not 1.\n",
    "\n",
    "You can get at **ranges** of the values in a list as well. Instead of using a single number as an index, use two numbers with a colon between them:\n",
    "\n",
    "```\n",
    "recent_years = [2015, 2016, 2017, 2018, 2019]\n",
    "print(recent_years[1:3])\n",
    "```\n",
    "\n",
    "Try it out:"
   ]
  },
  {
   "cell_type": "code",
   "execution_count": null,
   "metadata": {},
   "outputs": [],
   "source": []
  },
  {
   "cell_type": "markdown",
   "metadata": {},
   "source": [
    "Surprised by what you got? The rule in Python is that when you specify a range, it **includes** the lower value but **excludes** the upper value. For beginners this can seem rather strange but you quickly get used to it!\n",
    "\n",
    "Here are a few more examples to try. Look at the results carefully and make sure you understand what is going on:\n",
    "```\n",
    "print(recent_years[0:4])\n",
    "print(recent_years[3:])\n",
    "print(recent_years[:3])\n",
    "print(recent_years[0:12])\n",
    "print(recent_years[12])\n",
    "```"
   ]
  },
  {
   "cell_type": "code",
   "execution_count": null,
   "metadata": {},
   "outputs": [],
   "source": []
  },
  {
   "cell_type": "markdown",
   "metadata": {},
   "source": [
    "We will stop for a quick discussion of what has happened here, after that, move on:\n",
    "\n",
    "[Next: Iterating](pcc5.ipynb)"
   ]
  }
 ],
 "metadata": {
  "kernelspec": {
   "display_name": "Python 3",
   "language": "python",
   "name": "python3"
  },
  "language_info": {
   "codemirror_mode": {
    "name": "ipython",
    "version": 3
   },
   "file_extension": ".py",
   "mimetype": "text/x-python",
   "name": "python",
   "nbconvert_exporter": "python",
   "pygments_lexer": "ipython3",
   "version": "3.6.7"
  }
 },
 "nbformat": 4,
 "nbformat_minor": 2
}
