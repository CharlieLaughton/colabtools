{
 "cells": [
  {
   "cell_type": "markdown",
   "metadata": {},
   "source": [
    "# Variables\n",
    "\n",
    "**variables** hold **values**. Here are some examples of creating variables in Python:\n",
    "\n",
    "```\n",
    "year = 2019\n",
    "temperature = 21.4\n",
    "month = \"January\"\n",
    "```\n",
    "Once you have created a variable, you can check its value by *print()* ing it:\n",
    "```\n",
    "print(year)\n",
    "```\n",
    "\n",
    "In the cell below, have a go at creating some variables, and printing them. \n",
    "\n",
    "**Remember**: once you have written your Python code in the cell, press *shift-return* to run it, and you will see the output appear underneath."
   ]
  },
  {
   "cell_type": "code",
   "execution_count": null,
   "metadata": {},
   "outputs": [],
   "source": []
  },
  {
   "cell_type": "markdown",
   "metadata": {},
   "source": [
    "If you know something about other programming languages, you will notice that the three examples at the top are examples of three different **types** of variables: 'year' is an *integer*, 'temperature' is a *floating point* number (in Python called a *float*), and 'month' is a *string*.\n",
    "\n",
    "Python is rather unusual amongst programming languages in that you don't have to define what *type* of value a variable is going to hold. For new learners, this is 95% of the time a very useful thing."
   ]
  },
  {
   "cell_type": "markdown",
   "metadata": {},
   "source": [
    "[Next: simple maths with variables](pcc2.ipynb)"
   ]
  }
 ],
 "metadata": {
  "kernelspec": {
   "display_name": "Python 3",
   "language": "python",
   "name": "python3"
  },
  "language_info": {
   "codemirror_mode": {
    "name": "ipython",
    "version": 3
   },
   "file_extension": ".py",
   "mimetype": "text/x-python",
   "name": "python",
   "nbconvert_exporter": "python",
   "pygments_lexer": "ipython3",
   "version": "3.6.8"
  }
 },
 "nbformat": 4,
 "nbformat_minor": 2
}
