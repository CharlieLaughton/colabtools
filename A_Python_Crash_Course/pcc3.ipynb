{
 "cells": [
  {
   "cell_type": "markdown",
   "metadata": {},
   "source": [
    "# Lists\n",
    "\n",
    "When you are working with data, most often you have got a lot of it. **Lists** help you keep it organised. You can assign a list of values to a variable by putting them between square brackets, separating the values with commas:\n",
    "\n",
    "```\n",
    "recent_years = [2015, 2016, 2017, 2018, 2019]\n",
    "```\n",
    "\n",
    "Copy, or cute-and-paste, the line above into the cell below. Add a second line to print the value of *recent_years*.Then run the cell (*shift-return*):"
   ]
  },
  {
   "cell_type": "code",
   "execution_count": null,
   "metadata": {},
   "outputs": [],
   "source": []
  },
  {
   "cell_type": "markdown",
   "metadata": {},
   "source": [
    "You can get at individual items in a list by specifying their *index*, as number in square brackets, like this:\n",
    "```\n",
    "print(recent_years[1])\n",
    "```\n",
    "Try it in the cell below - do you get what you expect?"
   ]
  },
  {
   "cell_type": "code",
   "execution_count": null,
   "metadata": {},
   "outputs": [],
   "source": []
  },
  {
   "cell_type": "markdown",
   "metadata": {},
   "source": [
    "[Next: more on lists](pcc4.ipynb)"
   ]
  }
 ],
 "metadata": {
  "kernelspec": {
   "display_name": "Python 3",
   "language": "python",
   "name": "python3"
  },
  "language_info": {
   "codemirror_mode": {
    "name": "ipython",
    "version": 3
   },
   "file_extension": ".py",
   "mimetype": "text/x-python",
   "name": "python",
   "nbconvert_exporter": "python",
   "pygments_lexer": "ipython3",
   "version": "3.6.7"
  }
 },
 "nbformat": 4,
 "nbformat_minor": 2
}
