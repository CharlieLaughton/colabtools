{
 "cells": [
  {
   "cell_type": "markdown",
   "metadata": {},
   "source": [
    "# Simple maths with variables\n",
    "\n",
    "You can add, subtract, multiply and divide variables. Try out the following examples (copy, or cut and paste, the lines into the cell below and press *shift-return*):\n",
    "\n",
    "```\n",
    "this_year = 2019\n",
    "next_year = this_year + 1\n",
    "print('next_year=', next_year)\n",
    "\n",
    "temperature_now = 21.5\n",
    "temperature_tonight = temperature_now / 3\n",
    "print('temperature_tonight=', temperature_tonight)\n",
    "```\n"
   ]
  },
  {
   "cell_type": "code",
   "execution_count": null,
   "metadata": {},
   "outputs": [],
   "source": []
  },
  {
   "cell_type": "markdown",
   "metadata": {},
   "source": [
    "[Next: lists](pcc3.ipynb)"
   ]
  }
 ],
 "metadata": {
  "kernelspec": {
   "display_name": "Python 3",
   "language": "python",
   "name": "python3"
  },
  "language_info": {
   "codemirror_mode": {
    "name": "ipython",
    "version": 3
   },
   "file_extension": ".py",
   "mimetype": "text/x-python",
   "name": "python",
   "nbconvert_exporter": "python",
   "pygments_lexer": "ipython3",
   "version": "3.6.8"
  }
 },
 "nbformat": 4,
 "nbformat_minor": 2
}
