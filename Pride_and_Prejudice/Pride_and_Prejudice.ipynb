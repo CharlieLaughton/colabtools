{
 "cells": [
  {
   "cell_type": "markdown",
   "id": "a0173a22",
   "metadata": {},
   "source": [
    "## An example of using Python for text analysis.\n",
    "\n",
    "Python can be used for a lot more than crunching big datasets of numbers, for example it can be used in the humanities/arts for the analysis of textual data.\n",
    "\n",
    "In this notebook you will design and build some Python code to analyse Jane Austin's famous novel [*Pride and Prejudice*](https://en.wikipedia.org/wiki/Pride_and_Prejudice).\n",
    "\n",
    "As you may know, *Pride and Prejudice* deals with the stormy relationship between the heroine, Elizabeth Bennett, and Mr Darcy. Written in a pre-feminist era (1813), but by a female author and with a female lead, we could be interested in how the book manages the power balance between these two characters.\n",
    "![](https://upload.wikimedia.org/wikipedia/commons/2/22/PrideandPrejudiceCH3.jpg)\n",
    "\n",
    "\n",
    "\n",
    "In this very simple analysis, you will use Python to answer these questions:\n",
    "\n",
    "1) Relatively how often are Elizabeth and Darcy's names mentioned?\n",
    "2) In sentences where both characters are mentioned, how often is Elizabeth's name mentioned first, and how many times is Darcy's name mentioned first?\n",
    "\n",
    "To complete this task, you will write some Python functions. You will be provided with some tips on how to approach this, but the details are up to you.\n",
    "\n",
    "The full text of the book is available from the [Gutenberg Project](https://www.gutenberg.org/ebooks/1342), but we have the text prepared for you already - you just need to download it. To do this, run the following cell:"
   ]
  },
  {
   "cell_type": "code",
   "execution_count": null,
   "id": "b7ba1d51",
   "metadata": {},
   "outputs": [],
   "source": [
    "!curl https://raw.githubusercontent.com/CharlieLaughton/colabtools/master/Pride_and_Prejudice/Pride_and_Prejudice.txt -o Pride_and_Prejudice.txt"
   ]
  },
  {
   "cell_type": "markdown",
   "id": "53e5bc51",
   "metadata": {},
   "source": [
    "### Task 1: write a function that loads the contents of the book into a string variable.\n",
    "\n",
    "Write a function that ends up working like this:\n",
    "\n",
    "    content = read(book_file_name)\n",
    "    \n",
    "Tips:\n",
    "\n",
    "There are several ways to read the contents of a file into a Python program, but probably the most basic (good enough for now) will look something like this:\n",
    "\n",
    "    f = open(book_file_name)\n",
    "    content = f.read()\n",
    "    f.close()\n",
    "    \n",
    "OK, so now complete the cell below:"
   ]
  },
  {
   "cell_type": "code",
   "execution_count": null,
   "id": "09efa1c3",
   "metadata": {},
   "outputs": [],
   "source": [
    "def read(book_title):\n",
    "    # Add you code here\n",
    "    \n",
    "    return content # don't forget to 'return' the result!"
   ]
  },
  {
   "cell_type": "markdown",
   "id": "aa0e635f",
   "metadata": {},
   "source": [
    "Does your code work? Time to find out. Run the following cell, if something is wrong with your function you will get an error, if so go back and fix your function, and try again!"
   ]
  },
  {
   "cell_type": "code",
   "execution_count": null,
   "id": "d0c1602c",
   "metadata": {},
   "outputs": [],
   "source": [
    "title = 'Pride_and_Prejudice.txt'\n",
    "content = read(title)\n",
    "if len(content) == 773701:\n",
    "    print('Great! Your function works!')\n",
    "else:\n",
    "    print('Whoops! - something is wrong...')"
   ]
  },
  {
   "cell_type": "markdown",
   "id": "a4423def",
   "metadata": {},
   "source": [
    "### Task 2. Split the contents into individual sentences\n",
    "\n",
    "At the moment the whole book - every word - is in one Python string, `content`. The next step is to split it into sentences, each of which can then be analysed.\n",
    "\n",
    "Tips:\n",
    "\n",
    "Python `strings` have a useful `method` called `split()` that can help. Run the code in the following cell to see it in action:"
   ]
  },
  {
   "cell_type": "code",
   "execution_count": null,
   "id": "b442cd35",
   "metadata": {},
   "outputs": [],
   "source": [
    "sentence = 'This is a sentence made up of several words'\n",
    "chunks = sentence.split()\n",
    "print(chunks)"
   ]
  },
  {
   "cell_type": "markdown",
   "id": "62ca5786",
   "metadata": {},
   "source": [
    "The original string is split into a `list` of shorter strings. The split happens at each space (\" \") character.\n",
    "\n",
    "But you can change this behaviour:"
   ]
  },
  {
   "cell_type": "code",
   "execution_count": null,
   "id": "6d8e0779",
   "metadata": {},
   "outputs": [],
   "source": [
    "chunks = sentence.split('e')\n",
    "print(chunks)"
   ]
  },
  {
   "cell_type": "markdown",
   "id": "3de385a6",
   "metadata": {},
   "source": [
    "Notice the character used to define the split points is removed from the list of generated sub-strings.\n",
    "\n",
    "So - write a Python function that takes your big string with the entire contents of the book in it, and returns a list of strings, each of which is one sentence in the book. It should work something like this:\n",
    "\n",
    "    sentences = sentence_split(long_string)\n",
    "    "
   ]
  },
  {
   "cell_type": "code",
   "execution_count": null,
   "id": "1e7bf39f",
   "metadata": {},
   "outputs": [],
   "source": [
    "def sentence_split(long_string):\n",
    "    # write your code here\n",
    "    \n",
    "    return sentences # this should be a list of strings"
   ]
  },
  {
   "cell_type": "markdown",
   "id": "17993f5b",
   "metadata": {},
   "source": [
    "Let's see if it works:"
   ]
  },
  {
   "cell_type": "code",
   "execution_count": null,
   "id": "21314dfc",
   "metadata": {},
   "outputs": [],
   "source": [
    "sentences = sentence_split(content)\n",
    "if len(sentences) == 5267:\n",
    "    print('Great! Your function works!')\n",
    "else:\n",
    "    print('Whoops! - something is wrong...')"
   ]
  },
  {
   "cell_type": "markdown",
   "id": "645df39d",
   "metadata": {},
   "source": [
    "### Task 3. Find the position of a particular word in a sentence\n",
    "\n",
    "To achieve our goal, we need to analyse each sentence to:\n",
    "\n",
    "1. Find out if it contains the word 'Elizabeth' or the word 'Darcy'\n",
    "2. If it does, how far into the sentence it is (so we can see which of the two is mentioned first, in sentences where they both appear)\n",
    "\n",
    "\n",
    "A Python function to do this might look like this:\n",
    "\n",
    "    position = word_position(sentence, target_word)\n",
    "    \n",
    "where `sentence` is a long string with a sentence in it, `target_word` is the word we are searching for, and `position` is an integer that tells us how many characters into the sentence is the match, or has the value -1 if the word doesn't appear in the sentence at all. (Remember Python counts from zero, so if the 1st word is the match, the value of `position` will be 0).\n",
    "\n",
    "Tip:\n",
    "\n",
    "Python `strings` have a useful method called `index()` we can use. See it in action here:"
   ]
  },
  {
   "cell_type": "code",
   "execution_count": null,
   "id": "4450df6e",
   "metadata": {},
   "outputs": [],
   "source": [
    "sentence = 'This is a sentence made up of several words'\n",
    "print(sentence.index('sentence'))\n",
    "print(sentence.index('several'))"
   ]
  },
  {
   "cell_type": "markdown",
   "id": "bb303075",
   "metadata": {},
   "source": [
    "But you have to be a bit careful using it in a function, because if you ask for the index of something that isn't there, you get an error message:"
   ]
  },
  {
   "cell_type": "code",
   "execution_count": null,
   "id": "f2f5d03c",
   "metadata": {},
   "outputs": [],
   "source": [
    "print(sentence.index('cat'))"
   ]
  },
  {
   "cell_type": "markdown",
   "id": "b838eb5c",
   "metadata": {},
   "source": [
    "To protect against this, you need to first check in some safe way if the substring is present at all, before using `.index()` to tell you where. Here is one approach:"
   ]
  },
  {
   "cell_type": "code",
   "execution_count": null,
   "id": "5eeacf46",
   "metadata": {},
   "outputs": [],
   "source": [
    "if 'cat' in sentence:\n",
    "    print(sentence.index('cat'))\n",
    "else:\n",
    "    print('cat does not appear in this sentence')"
   ]
  },
  {
   "cell_type": "markdown",
   "id": "55107bd6",
   "metadata": {},
   "source": [
    "OK, bearing this in mind, create your function:"
   ]
  },
  {
   "cell_type": "code",
   "execution_count": null,
   "id": "b81b98b8",
   "metadata": {},
   "outputs": [],
   "source": [
    "def word_position(sentence, target_word):\n",
    "    # Add your code below\n",
    "    \n",
    "    return position"
   ]
  },
  {
   "cell_type": "markdown",
   "id": "c7d65b46",
   "metadata": {},
   "source": [
    "Time to test your function. As it happens, the word \"Elizabeth\" first appears in sentence 56, but the word Darcy does not feature here. Does your function agree?"
   ]
  },
  {
   "cell_type": "code",
   "execution_count": null,
   "id": "8b1f3676",
   "metadata": {},
   "outputs": [],
   "source": [
    "position_test_1 = word_position(sentences[56], 'Elizabeth')\n",
    "if position_test_1 == 39:\n",
    "    print('Test 1 passed')\n",
    "else:\n",
    "    print('Test 1 failed - result was ', position_test_1)\n",
    "    \n",
    "position_test_2 = word_position(sentences[56], 'Darcy')\n",
    "if position_test_2 == -1:\n",
    "    print('Test 2 passed')\n",
    "else:\n",
    "    print('Test 2 failed - result was ', position_test_2)\n",
    "    "
   ]
  },
  {
   "cell_type": "markdown",
   "id": "255d52b8",
   "metadata": {},
   "source": [
    "### Task 4. Analyse the full text\n",
    "\n",
    "Nearly there! You have all the functions you need, now you just need to write some code to put it all together. The approach will be:\n",
    "\n",
    "1) Initialise some counters to zero:\n",
    "\n",
    "    a) `nD` to count the number of sentences mentioning Darcy\n",
    "    b) `nE` to count the number of sentences mentioning Elizabeth\n",
    "    c) `nDE` to count the number of sentences where Darcy appears before Elizabeth\n",
    "    d) `nED` to count the number of sentences where Elizabeth appears before Darcy\n",
    "    \n",
    "2) Loop over each sentence. For each:\n",
    "\n",
    "    a) See if 'Elizabeth' is in the sentence, and if so, in what position\n",
    "    b) Likewise for 'Darcy'\n",
    "    c) Update `nD` and `nE` as appropriate\n",
    "    d) If both are present, see whose name comes earlier in the sentence and update `nDE` or `nED` as appropriate.\n",
    "    \n",
    "OK, no need for a function this time, just fill in the cell below with your code, then run it:"
   ]
  },
  {
   "cell_type": "code",
   "execution_count": null,
   "id": "455736aa",
   "metadata": {},
   "outputs": [],
   "source": [
    "nD = 0 # number of mentions of Darcy\n",
    "nE = 0 # number of mentions of Elizabeth\n",
    "nDE = 0 # number of times Darcy is mentioned before Elizabeth\n",
    "nED = 0 # number of times Elizabeth is mentioned before Darcy\n",
    "#Add your code here:\n",
    "\n",
    "\n",
    "# end with the following lines:\n",
    "print('Pride and Prejudice contains about', len(sentences), 'sentences.  Elizabeth is')\n",
    "print('mentioned by name in', nE, 'of them, while Darcy is mentioned by name')\n",
    "print('in', nD, 'of them.')\n",
    "print('In sentences where both are mentioned, Elizabeth is mentioned before')\n",
    "print('Darcy', nED, 'times, whereas Darcy is mentioned before Elizabeth', nDE, 'times.')"
   ]
  },
  {
   "cell_type": "markdown",
   "id": "bcfa5f21",
   "metadata": {},
   "source": [
    "### Checking the answer\n",
    "\n",
    "Run the code in the following cell to reveal the correct answer!"
   ]
  },
  {
   "cell_type": "code",
   "execution_count": null,
   "id": "c7649124",
   "metadata": {},
   "outputs": [],
   "source": [
    "secret_message = '507269646520616e64205072656a756469636520636f6e7\\\n",
    "461696e732061626f757420353236372073656e74656e6365732e2020\\\n",
    "456c697a61626574682069730a6d656e74696f6e6564206279206e616d\\\n",
    "6520696e20363233206f66207468656d2c207768696c652044617263792\\\n",
    "06973206d656e74696f6e6564206279206e616d650a696e20333939206f6\\\n",
    "6207468656d2e0a496e2073656e74656e63657320776865726520626f7468\\\n",
    "20617265206d656e74696f6e65642c20456c697a6162657468206973206d65\\\n",
    "6e74696f6e6564206265666f72650a44617263792035302074696d65732c207\\\n",
    "7686572656173204461726379206973206d656e74696f6e6564206265666f726\\\n",
    "520456c697a61626574682032372074696d65732e'\n",
    "print(bytes.fromhex(secret_message).decode())"
   ]
  },
  {
   "cell_type": "code",
   "execution_count": null,
   "id": "04094ec2",
   "metadata": {},
   "outputs": [],
   "source": []
  }
 ],
 "metadata": {
  "kernelspec": {
   "display_name": "Python 3 (ipykernel)",
   "language": "python",
   "name": "python3"
  },
  "language_info": {
   "codemirror_mode": {
    "name": "ipython",
    "version": 3
   },
   "file_extension": ".py",
   "mimetype": "text/x-python",
   "name": "python",
   "nbconvert_exporter": "python",
   "pygments_lexer": "ipython3",
   "version": "3.9.10"
  }
 },
 "nbformat": 4,
 "nbformat_minor": 5
}
