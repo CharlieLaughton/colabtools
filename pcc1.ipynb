{
 "cells": [
  {
   "cell_type": "markdown",
   "metadata": {},
   "source": [
    "# Variables\n",
    "\n",
    "**variables** hold **values**. Here are some examples of creating variables in Python:\n",
    "\n",
    "```\n",
    "year = 2019\n",
    "temperature = 21.4\n",
    "month = \"January\"\n",
    "```\n",
    "Once you have crerated a variable, you can check its value by *print()* ing it:\n",
    "```\n",
    "print(year)\n",
    "```\n",
    "\n",
    "In the cell below, have a go at creating some variables, and printing them. \n",
    "\n",
    "**Remember**: once you have written your Python code in the cell, press *shift-return* to run it, and you will see the output appear underneath."
   ]
  },
  {
   "cell_type": "code",
   "execution_count": null,
   "metadata": {},
   "outputs": [],
   "source": []
  },
  {
   "cell_type": "markdown",
   "metadata": {},
   "source": [
    "[Next: simple maths with variables](pcc2.ipynb)"
   ]
  }
 ],
 "metadata": {
  "kernelspec": {
   "display_name": "Python 3",
   "language": "python",
   "name": "python3"
  },
  "language_info": {
   "codemirror_mode": {
    "name": "ipython",
    "version": 3
   },
   "file_extension": ".py",
   "mimetype": "text/x-python",
   "name": "python",
   "nbconvert_exporter": "python",
   "pygments_lexer": "ipython3",
   "version": "3.6.8"
  }
 },
 "nbformat": 4,
 "nbformat_minor": 2
}
