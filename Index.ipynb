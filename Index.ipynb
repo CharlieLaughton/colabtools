{
 "cells": [
  {
   "cell_type": "markdown",
   "metadata": {},
   "source": [
    "# Data Science with Python\n",
    "\n",
    "## Resources for the CDT Research Training Module 3: Experimental design, data analysis and in silico prediction\n",
    "\n",
    "\n",
    "### Contents:\n",
    "\n",
    "1. [A Python Crash Course](A_Python_Crash_Course/pcc0.ipynb)\n",
    "This course is designed to give you just enough of an introduction to Python for you to be able to do the afternoon workshop on machine learning and data science.\n",
    "2. [Text Analysis with Python](Pride_and_Prejudice/Pride_and_Prejudice.ipynb)\n",
    "An interlude: there is more to data analysis than numbers, here you will see how Python can be used to do some analysis of \"Pride and Prejudice\".\n",
    "2. [Predicting drug-polymer compatibility by machine learning](Gudrun/Instructions.ipynb)\n",
    "An interactive workshop that introduces you to the use of Python for data science. In the course of the workshop you will do your own, simplified, analysis of the data presented by Gudrun Fridgeirsdottir in her talk on Wednesday.\n",
    "\n",
    "### Author:\n",
    "\n",
    "[Charlie Laughton](mailto://charles.laughton@nottingham.ac.uk)"
   ]
  },
  {
   "cell_type": "code",
   "execution_count": null,
   "metadata": {},
   "outputs": [],
   "source": []
  }
 ],
 "metadata": {
  "kernelspec": {
   "display_name": "Python 3 (ipykernel)",
   "language": "python",
   "name": "python3"
  },
  "language_info": {
   "codemirror_mode": {
    "name": "ipython",
    "version": 3
   },
   "file_extension": ".py",
   "mimetype": "text/x-python",
   "name": "python",
   "nbconvert_exporter": "python",
   "pygments_lexer": "ipython3",
   "version": "3.9.10"
  }
 },
 "nbformat": 4,
 "nbformat_minor": 2
}
