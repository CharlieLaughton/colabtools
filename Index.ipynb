{
 "cells": [
  {
   "cell_type": "markdown",
   "metadata": {},
   "source": [
    "# Data Science with Python\n",
    "\n",
    "## Resources for the CDT Research Training Module 3: Experimental design, data analysis and in silico prediction\n",
    "\n",
    "\n",
    "### Contents:\n",
    "\n",
    "1. [A Python Crash Course](A_Python_Crash_Course/pcc0.ipynb)\n",
    "2. [Predicting drug-polymer compatibility by machine learning](Gudrun/Gudrun0.ipynb)\n",
    "\n",
    "### Author:\n",
    "\n",
    "[Charlie Laughton](mailto://charles.laughton@nottingham.ac.uk)"
   ]
  },
  {
   "cell_type": "code",
   "execution_count": null,
   "metadata": {},
   "outputs": [],
   "source": []
  }
 ],
 "metadata": {
  "kernelspec": {
   "display_name": "Python 3",
   "language": "python",
   "name": "python3"
  },
  "language_info": {
   "codemirror_mode": {
    "name": "ipython",
    "version": 3
   },
   "file_extension": ".py",
   "mimetype": "text/x-python",
   "name": "python",
   "nbconvert_exporter": "python",
   "pygments_lexer": "ipython3",
   "version": "3.6.8"
  }
 },
 "nbformat": 4,
 "nbformat_minor": 2
}
